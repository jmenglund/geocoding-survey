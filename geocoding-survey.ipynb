{
 "cells": [
  {
   "cell_type": "markdown",
   "metadata": {},
   "source": [
    "# Lokalinformation i några naturhistoriska samlingar\n",
    "\n",
    "*Markus Englund*, Naturhistoriska riksmuseet (april, 2016)\n",
    "\n",
    "Den digitaliserade lokalinformationen varierar ganska mycket mellan de naturhistoriska samlingarna i Sverige. Först tittar jag på hur informationen ser ut i de botaniska samlingarna vid Naturhistoriska riksmuseet i Stockholm (kärlväxter, mossor, alger samt svampar inklusive lavar). Därefter undersöker jag hur det ser ut i den entomologiska samlingen vid samma museum."
   ]
  },
  {
   "cell_type": "code",
   "execution_count": 1,
   "metadata": {
    "collapsed": false
   },
   "outputs": [],
   "source": [
    "# Importera diverse bibliotek\n",
    "%matplotlib inline\n",
    "import numpy as np\n",
    "import matplotlib as mpl\n",
    "import matplotlib.pyplot as plt\n",
    "import seaborn as sns\n",
    "import pandas as pd"
   ]
  },
  {
   "cell_type": "markdown",
   "metadata": {},
   "source": [
    "# Lokalinformation för kärlväxter\n"
   ]
  },
  {
   "cell_type": "code",
   "execution_count": 2,
   "metadata": {
    "collapsed": false
   },
   "outputs": [
    {
     "data": {
      "text/html": [
       "<div>\n",
       "<table border=\"1\" class=\"dataframe\">\n",
       "  <thead>\n",
       "    <tr style=\"text-align: right;\">\n",
       "      <th></th>\n",
       "      <th>Locality</th>\n",
       "      <th>Province</th>\n",
       "      <th>Parish</th>\n",
       "      <th>latitud grader</th>\n",
       "      <th>longitud grader</th>\n",
       "      <th>rubin1</th>\n",
       "      <th>RT90N</th>\n",
       "      <th>RT90E</th>\n",
       "    </tr>\n",
       "  </thead>\n",
       "  <tbody>\n",
       "    <tr>\n",
       "      <th>664826</th>\n",
       "      <td>NaN</td>\n",
       "      <td>NaN</td>\n",
       "      <td>NaN</td>\n",
       "      <td>NaN</td>\n",
       "      <td>NaN</td>\n",
       "      <td>NaN</td>\n",
       "      <td>NaN</td>\n",
       "      <td>NaN</td>\n",
       "    </tr>\n",
       "    <tr>\n",
       "      <th>664827</th>\n",
       "      <td>Plantae suecicae. Hieracium Öland Kastlösa, al...</td>\n",
       "      <td>Öland</td>\n",
       "      <td>Kastlösa</td>\n",
       "      <td>NaN</td>\n",
       "      <td>NaN</td>\n",
       "      <td>NaN</td>\n",
       "      <td>NaN</td>\n",
       "      <td>NaN</td>\n",
       "    </tr>\n",
       "    <tr>\n",
       "      <th>664828</th>\n",
       "      <td>Plantae suecicae. Hieracium Öland Segerstad, a...</td>\n",
       "      <td>Öland</td>\n",
       "      <td>Segerstad</td>\n",
       "      <td>NaN</td>\n",
       "      <td>NaN</td>\n",
       "      <td>NaN</td>\n",
       "      <td>NaN</td>\n",
       "      <td>NaN</td>\n",
       "    </tr>\n",
       "    <tr>\n",
       "      <th>664829</th>\n",
       "      <td>Plantae suecicae. Hieracium Öland Segerstad, a...</td>\n",
       "      <td>Öland</td>\n",
       "      <td>Segerstad</td>\n",
       "      <td>NaN</td>\n",
       "      <td>NaN</td>\n",
       "      <td>NaN</td>\n",
       "      <td>NaN</td>\n",
       "      <td>NaN</td>\n",
       "    </tr>\n",
       "    <tr>\n",
       "      <th>664830</th>\n",
       "      <td>Plantae suecicae. Hieracium Öland Smedby, Part...</td>\n",
       "      <td>Öland</td>\n",
       "      <td>Smedby</td>\n",
       "      <td>NaN</td>\n",
       "      <td>NaN</td>\n",
       "      <td>NaN</td>\n",
       "      <td>NaN</td>\n",
       "      <td>NaN</td>\n",
       "    </tr>\n",
       "    <tr>\n",
       "      <th>664831</th>\n",
       "      <td>Plantae suecicae. Hieracium Öland Ventlinge, a...</td>\n",
       "      <td>Öland</td>\n",
       "      <td>Ventlinge</td>\n",
       "      <td>NaN</td>\n",
       "      <td>NaN</td>\n",
       "      <td>NaN</td>\n",
       "      <td>NaN</td>\n",
       "      <td>NaN</td>\n",
       "    </tr>\n",
       "    <tr>\n",
       "      <th>664832</th>\n",
       "      <td>Plantae suecicae. Hieracium Öland Södra Möckle...</td>\n",
       "      <td>Öland</td>\n",
       "      <td>Södra Möckleby</td>\n",
       "      <td>NaN</td>\n",
       "      <td>NaN</td>\n",
       "      <td>NaN</td>\n",
       "      <td>NaN</td>\n",
       "      <td>NaN</td>\n",
       "    </tr>\n",
       "    <tr>\n",
       "      <th>664833</th>\n",
       "      <td>Plantae suecicae. Hieracium Öland Södra Möckle...</td>\n",
       "      <td>Öland</td>\n",
       "      <td>Södra Möckleby</td>\n",
       "      <td>NaN</td>\n",
       "      <td>NaN</td>\n",
       "      <td>NaN</td>\n",
       "      <td>NaN</td>\n",
       "      <td>NaN</td>\n",
       "    </tr>\n",
       "    <tr>\n",
       "      <th>664834</th>\n",
       "      <td>Plantae suecicae. Hieracium Öland Södra Möckle...</td>\n",
       "      <td>Öland</td>\n",
       "      <td>Södra Möckleby</td>\n",
       "      <td>NaN</td>\n",
       "      <td>NaN</td>\n",
       "      <td>NaN</td>\n",
       "      <td>NaN</td>\n",
       "      <td>NaN</td>\n",
       "    </tr>\n",
       "    <tr>\n",
       "      <th>664835</th>\n",
       "      <td>Flora Suecica. Hieracium Öland Vickleby alvar ...</td>\n",
       "      <td>Öland</td>\n",
       "      <td>Vickleby</td>\n",
       "      <td>NaN</td>\n",
       "      <td>NaN</td>\n",
       "      <td>NaN</td>\n",
       "      <td>NaN</td>\n",
       "      <td>NaN</td>\n",
       "    </tr>\n",
       "  </tbody>\n",
       "</table>\n",
       "</div>"
      ],
      "text/plain": [
       "                                                 Locality Province  \\\n",
       "664826                                                NaN      NaN   \n",
       "664827  Plantae suecicae. Hieracium Öland Kastlösa, al...    Öland   \n",
       "664828  Plantae suecicae. Hieracium Öland Segerstad, a...    Öland   \n",
       "664829  Plantae suecicae. Hieracium Öland Segerstad, a...    Öland   \n",
       "664830  Plantae suecicae. Hieracium Öland Smedby, Part...    Öland   \n",
       "664831  Plantae suecicae. Hieracium Öland Ventlinge, a...    Öland   \n",
       "664832  Plantae suecicae. Hieracium Öland Södra Möckle...    Öland   \n",
       "664833  Plantae suecicae. Hieracium Öland Södra Möckle...    Öland   \n",
       "664834  Plantae suecicae. Hieracium Öland Södra Möckle...    Öland   \n",
       "664835  Flora Suecica. Hieracium Öland Vickleby alvar ...    Öland   \n",
       "\n",
       "                Parish latitud grader longitud grader rubin1 RT90N RT90E  \n",
       "664826             NaN            NaN             NaN    NaN   NaN   NaN  \n",
       "664827        Kastlösa            NaN             NaN    NaN   NaN   NaN  \n",
       "664828       Segerstad            NaN             NaN    NaN   NaN   NaN  \n",
       "664829       Segerstad            NaN             NaN    NaN   NaN   NaN  \n",
       "664830          Smedby            NaN             NaN    NaN   NaN   NaN  \n",
       "664831       Ventlinge            NaN             NaN    NaN   NaN   NaN  \n",
       "664832  Södra Möckleby            NaN             NaN    NaN   NaN   NaN  \n",
       "664833  Södra Möckleby            NaN             NaN    NaN   NaN   NaN  \n",
       "664834  Södra Möckleby            NaN             NaN    NaN   NaN   NaN  \n",
       "664835        Vickleby            NaN             NaN    NaN   NaN   NaN  "
      ]
     },
     "execution_count": 2,
     "metadata": {},
     "output_type": "execute_result"
    }
   ],
   "source": [
    "vasc_plants = pd.read_csv('s-vascular-plants-20160330.csv', encoding='utf8', dtype='unicode')\n",
    "vasc_plants.tail(10)"
   ]
  },
  {
   "cell_type": "markdown",
   "metadata": {},
   "source": [
    "### Antal svenska föremålsposter"
   ]
  },
  {
   "cell_type": "code",
   "execution_count": 3,
   "metadata": {
    "collapsed": false
   },
   "outputs": [
    {
     "data": {
      "text/plain": [
       "664836"
      ]
     },
     "execution_count": 3,
     "metadata": {},
     "output_type": "execute_result"
    }
   ],
   "source": [
    "vasc_plants_tot_cnt = len(vasc_plants)\n",
    "vasc_plants_tot_cnt"
   ]
  },
  {
   "cell_type": "markdown",
   "metadata": {},
   "source": [
    "### Poster med information om landskap"
   ]
  },
  {
   "cell_type": "code",
   "execution_count": 4,
   "metadata": {
    "collapsed": false
   },
   "outputs": [
    {
     "name": "stdout",
     "output_type": "stream",
     "text": [
      "660263 poster (99.3% av alla svenska poster)\n"
     ]
    }
   ],
   "source": [
    "vasc_plants_landskap_cnt = vasc_plants.Province.notnull().sum()\n",
    "vasc_plants_landskap_frq = vasc_plants_landskap_cnt / vasc_plants_tot_cnt\n",
    "print(\n",
    "    '{} poster ({:.1%} av alla svenska poster)'\n",
    "    .format(vasc_plants_landskap_cnt, vasc_plants_landskap_frq))"
   ]
  },
  {
   "cell_type": "markdown",
   "metadata": {},
   "source": [
    "### Poster med information om socken"
   ]
  },
  {
   "cell_type": "code",
   "execution_count": 5,
   "metadata": {
    "collapsed": false
   },
   "outputs": [
    {
     "name": "stdout",
     "output_type": "stream",
     "text": [
      "643382 poster (96.8% av alla svenska poster)\n"
     ]
    }
   ],
   "source": [
    "vasc_plants_socken_cnt = vasc_plants.Parish.notnull().sum()\n",
    "vasc_plants_socken_frq = vasc_plants_socken_cnt / vasc_plants_tot_cnt\n",
    "print(\n",
    "    '{} poster ({:.1%} av alla svenska poster)'\n",
    "    .format(vasc_plants_socken_cnt, vasc_plants_socken_frq))"
   ]
  },
  {
   "cell_type": "markdown",
   "metadata": {},
   "source": [
    "### Poster med detaljerad lokalinformation\n",
    "\n",
    "Fördelningen hos antalet tecken i fältet \"Locality\". Textlängder upp till 300 tecken visas."
   ]
  },
  {
   "cell_type": "code",
   "execution_count": 6,
   "metadata": {
    "collapsed": false
   },
   "outputs": [
    {
     "data": {
      "text/plain": [
       "<matplotlib.axes._subplots.AxesSubplot at 0x10cd4a748>"
      ]
     },
     "execution_count": 6,
     "metadata": {},
     "output_type": "execute_result"
    },
    {
     "data": {
      "image/png": "[encoded data removed]",
      "text/plain": [
       "<matplotlib.figure.Figure at 0x10cd4a7f0>"
      ]
     },
     "metadata": {},
     "output_type": "display_data"
    }
   ],
   "source": [
    "vasc_plants_strlen = vasc_plants.Locality.fillna('').str.len()\n",
    "vasc_plants_strlen.plot.hist(\n",
    "    bins=20, xlim=(0, 300), range=(0, 300),\n",
    "    title='Kärlväxter: antal tecken i fältet \"Locality\"')"
   ]
  },
  {
   "cell_type": "markdown",
   "metadata": {},
   "source": [
    "### Poster med koordinater\n",
    "\n",
    "Huvudsakligen tre typer av koordinater förekommer: (1) WGS84 (eller förmodad WGS84), (2) Rikets Nät 1990 (RT90) eller en RUBIN (dvs. alfanumeriska koordinater enligt Rikets Nät."
   ]
  },
  {
   "cell_type": "code",
   "execution_count": 7,
   "metadata": {
    "collapsed": false
   },
   "outputs": [
    {
     "data": {
      "text/plain": [
       "<matplotlib.axes._subplots.AxesSubplot at 0x120527a90>"
      ]
     },
     "execution_count": 7,
     "metadata": {},
     "output_type": "execute_result"
    },
    {
     "data": {
      "image/png": "[encoded data removed]",
      "text/plain": [
       "<matplotlib.figure.Figure at 0x12052fa58>"
      ]
     },
     "metadata": {},
     "output_type": "display_data"
    }
   ],
   "source": [
    "vasc_plants_coordinates = pd.DataFrame({\n",
    "        'WGS84': (vasc_plants['latitud grader'].notnull() & vasc_plants['longitud grader'].notnull()),\n",
    "        'RT90': (vasc_plants.RT90E.notnull() & vasc_plants.RT90N.notnull()),\n",
    "        'RUBIN': vasc_plants.rubin1.notnull()})\n",
    "vasc_plants_coordinates.sum().plot.bar(title='Kärlväxter: förekomst av koordinater')"
   ]
  },
  {
   "cell_type": "markdown",
   "metadata": {},
   "source": [
    "Antal poster med någon av koordinattyperna:"
   ]
  },
  {
   "cell_type": "code",
   "execution_count": 8,
   "metadata": {
    "collapsed": false
   },
   "outputs": [
    {
     "name": "stdout",
     "output_type": "stream",
     "text": [
      "133807 poster (20.1% av alla svenska poster)\n"
     ]
    }
   ],
   "source": [
    "vasc_plants_coordinate_cnt = vasc_plants_coordinates.any(axis=1).sum()\n",
    "vasc_plants_coordinate_frq = vasc_plants_coordinate_cnt / vasc_plants_tot_cnt\n",
    "print(\n",
    "    '{} poster ({:.1%} av alla svenska poster)'\n",
    "    .format(vasc_plants_coordinate_cnt, vasc_plants_coordinate_frq))"
   ]
  },
  {
   "cell_type": "markdown",
   "metadata": {},
   "source": [
    "# Lokalinformation för mossor"
   ]
  },
  {
   "cell_type": "code",
   "execution_count": 9,
   "metadata": {
    "collapsed": false
   },
   "outputs": [
    {
     "data": {
      "text/html": [
       "<div>\n",
       "<table border=\"1\" class=\"dataframe\">\n",
       "  <thead>\n",
       "    <tr style=\"text-align: right;\">\n",
       "      <th></th>\n",
       "      <th>provins</th>\n",
       "      <th>distrikt</th>\n",
       "      <th>lokal</th>\n",
       "      <th>RT90E</th>\n",
       "      <th>RT90N</th>\n",
       "      <th>Rubin1</th>\n",
       "      <th>latitud_grad</th>\n",
       "      <th>longitud_grad</th>\n",
       "    </tr>\n",
       "  </thead>\n",
       "  <tbody>\n",
       "    <tr>\n",
       "      <th>125409</th>\n",
       "      <td>Gotland</td>\n",
       "      <td>NaN</td>\n",
       "      <td>Gotland, Thorsborg</td>\n",
       "      <td>NaN</td>\n",
       "      <td>NaN</td>\n",
       "      <td>NaN</td>\n",
       "      <td>NaN</td>\n",
       "      <td>NaN</td>\n",
       "    </tr>\n",
       "    <tr>\n",
       "      <th>125410</th>\n",
       "      <td>Gotland</td>\n",
       "      <td>NaN</td>\n",
       "      <td>Gotland, Thorsburgen</td>\n",
       "      <td>NaN</td>\n",
       "      <td>NaN</td>\n",
       "      <td>NaN</td>\n",
       "      <td>NaN</td>\n",
       "      <td>NaN</td>\n",
       "    </tr>\n",
       "    <tr>\n",
       "      <th>125411</th>\n",
       "      <td>Gotland</td>\n",
       "      <td>NaN</td>\n",
       "      <td>Gotland, Thorsburgen</td>\n",
       "      <td>NaN</td>\n",
       "      <td>NaN</td>\n",
       "      <td>NaN</td>\n",
       "      <td>NaN</td>\n",
       "      <td>NaN</td>\n",
       "    </tr>\n",
       "    <tr>\n",
       "      <th>125412</th>\n",
       "      <td>Gotland</td>\n",
       "      <td>NaN</td>\n",
       "      <td>Gotland: Thorsburgen</td>\n",
       "      <td>NaN</td>\n",
       "      <td>NaN</td>\n",
       "      <td>NaN</td>\n",
       "      <td>NaN</td>\n",
       "      <td>NaN</td>\n",
       "    </tr>\n",
       "    <tr>\n",
       "      <th>125413</th>\n",
       "      <td>Gotland</td>\n",
       "      <td>Kräklingbo</td>\n",
       "      <td>Gotland, Kräklingbo, Torsburgen</td>\n",
       "      <td>NaN</td>\n",
       "      <td>NaN</td>\n",
       "      <td>NaN</td>\n",
       "      <td>NaN</td>\n",
       "      <td>NaN</td>\n",
       "    </tr>\n",
       "    <tr>\n",
       "      <th>125414</th>\n",
       "      <td>Östergötland</td>\n",
       "      <td>Vånga</td>\n",
       "      <td>Östergötland, Vånga, Lenbergsvik</td>\n",
       "      <td>NaN</td>\n",
       "      <td>NaN</td>\n",
       "      <td>NaN</td>\n",
       "      <td>NaN</td>\n",
       "      <td>NaN</td>\n",
       "    </tr>\n",
       "    <tr>\n",
       "      <th>125415</th>\n",
       "      <td>Östergötland</td>\n",
       "      <td>Vånga</td>\n",
       "      <td>Östergötland, Vånga sn</td>\n",
       "      <td>NaN</td>\n",
       "      <td>NaN</td>\n",
       "      <td>NaN</td>\n",
       "      <td>NaN</td>\n",
       "      <td>NaN</td>\n",
       "    </tr>\n",
       "    <tr>\n",
       "      <th>125416</th>\n",
       "      <td>Östergötland</td>\n",
       "      <td>Vånga</td>\n",
       "      <td>Östergötland, Vånga, Lenbergsvik</td>\n",
       "      <td>NaN</td>\n",
       "      <td>NaN</td>\n",
       "      <td>NaN</td>\n",
       "      <td>NaN</td>\n",
       "      <td>NaN</td>\n",
       "    </tr>\n",
       "    <tr>\n",
       "      <th>125417</th>\n",
       "      <td>Östergötland</td>\n",
       "      <td>Vånga</td>\n",
       "      <td>Östergötland, Vånga sn</td>\n",
       "      <td>NaN</td>\n",
       "      <td>NaN</td>\n",
       "      <td>NaN</td>\n",
       "      <td>NaN</td>\n",
       "      <td>NaN</td>\n",
       "    </tr>\n",
       "    <tr>\n",
       "      <th>125418</th>\n",
       "      <td>Jämtland</td>\n",
       "      <td>Åre</td>\n",
       "      <td>Jämtland, Åre, Blåhammarkläppen, västra sidan</td>\n",
       "      <td>NaN</td>\n",
       "      <td>NaN</td>\n",
       "      <td>NaN</td>\n",
       "      <td>NaN</td>\n",
       "      <td>NaN</td>\n",
       "    </tr>\n",
       "  </tbody>\n",
       "</table>\n",
       "</div>"
      ],
      "text/plain": [
       "             provins    distrikt  \\\n",
       "125409       Gotland         NaN   \n",
       "125410       Gotland         NaN   \n",
       "125411       Gotland         NaN   \n",
       "125412       Gotland         NaN   \n",
       "125413       Gotland  Kräklingbo   \n",
       "125414  Östergötland       Vånga   \n",
       "125415  Östergötland       Vånga   \n",
       "125416  Östergötland       Vånga   \n",
       "125417  Östergötland       Vånga   \n",
       "125418      Jämtland         Åre   \n",
       "\n",
       "                                                lokal RT90E RT90N Rubin1  \\\n",
       "125409                             Gotland, Thorsborg   NaN   NaN    NaN   \n",
       "125410                           Gotland, Thorsburgen   NaN   NaN    NaN   \n",
       "125411                           Gotland, Thorsburgen   NaN   NaN    NaN   \n",
       "125412                           Gotland: Thorsburgen   NaN   NaN    NaN   \n",
       "125413                Gotland, Kräklingbo, Torsburgen   NaN   NaN    NaN   \n",
       "125414              Östergötland, Vånga, Lenbergsvik    NaN   NaN    NaN   \n",
       "125415                         Östergötland, Vånga sn   NaN   NaN    NaN   \n",
       "125416              Östergötland, Vånga, Lenbergsvik    NaN   NaN    NaN   \n",
       "125417                         Östergötland, Vånga sn   NaN   NaN    NaN   \n",
       "125418  Jämtland, Åre, Blåhammarkläppen, västra sidan   NaN   NaN    NaN   \n",
       "\n",
       "       latitud_grad longitud_grad  \n",
       "125409          NaN           NaN  \n",
       "125410          NaN           NaN  \n",
       "125411          NaN           NaN  \n",
       "125412          NaN           NaN  \n",
       "125413          NaN           NaN  \n",
       "125414          NaN           NaN  \n",
       "125415          NaN           NaN  \n",
       "125416          NaN           NaN  \n",
       "125417          NaN           NaN  \n",
       "125418          NaN           NaN  "
      ]
     },
     "execution_count": 9,
     "metadata": {},
     "output_type": "execute_result"
    }
   ],
   "source": [
    "mosses = pd.read_csv('s-mosses-20160331.csv', encoding='utf8', dtype='unicode')\n",
    "mosses.tail(10)"
   ]
  },
  {
   "cell_type": "markdown",
   "metadata": {},
   "source": [
    "### Antal svenska föremålsposter"
   ]
  },
  {
   "cell_type": "code",
   "execution_count": 10,
   "metadata": {
    "collapsed": false
   },
   "outputs": [
    {
     "data": {
      "text/plain": [
       "125419"
      ]
     },
     "execution_count": 10,
     "metadata": {},
     "output_type": "execute_result"
    }
   ],
   "source": [
    "mosses_tot_cnt = len(mosses)\n",
    "mosses_tot_cnt"
   ]
  },
  {
   "cell_type": "markdown",
   "metadata": {},
   "source": [
    "### Poster med information om landskap"
   ]
  },
  {
   "cell_type": "code",
   "execution_count": 11,
   "metadata": {
    "collapsed": false
   },
   "outputs": [
    {
     "name": "stdout",
     "output_type": "stream",
     "text": [
      "125254 poster (99.9% av alla svenska poster)\n"
     ]
    }
   ],
   "source": [
    "mosses_landskap_cnt = mosses.provins.notnull().sum()\n",
    "mosses_landskap_frq = mosses_landskap_cnt / mosses_tot_cnt\n",
    "print(\n",
    "    '{} poster ({:.1%} av alla svenska poster)'\n",
    "    .format(mosses_landskap_cnt, mosses_landskap_frq))"
   ]
  },
  {
   "cell_type": "markdown",
   "metadata": {},
   "source": [
    "### Poster med information om socken"
   ]
  },
  {
   "cell_type": "code",
   "execution_count": 12,
   "metadata": {
    "collapsed": false
   },
   "outputs": [
    {
     "name": "stdout",
     "output_type": "stream",
     "text": [
      "110971 poster (88.5% av alla svenska poster)\n"
     ]
    }
   ],
   "source": [
    "mosses_socken_cnt = mosses.distrikt.notnull().sum()\n",
    "mosses_socken_frq = mosses_socken_cnt / mosses_tot_cnt\n",
    "print(\n",
    "    '{} poster ({:.1%} av alla svenska poster)'\n",
    "    .format(mosses_socken_cnt, mosses_socken_frq))"
   ]
  },
  {
   "cell_type": "markdown",
   "metadata": {},
   "source": [
    "### Poster med detaljerad lokalinformation\n",
    "\n",
    "Fördelningen hos antalet tecken i fältet \"lokal\". Textlängder upp till 300 tecken visas."
   ]
  },
  {
   "cell_type": "code",
   "execution_count": 13,
   "metadata": {
    "collapsed": false
   },
   "outputs": [
    {
     "data": {
      "text/plain": [
       "<matplotlib.axes._subplots.AxesSubplot at 0x110bb6e48>"
      ]
     },
     "execution_count": 13,
     "metadata": {},
     "output_type": "execute_result"
    },
    {
     "data": {
      "image/png": "[encoded data removed]",
      "text/plain": [
       "<matplotlib.figure.Figure at 0x110bb6518>"
      ]
     },
     "metadata": {},
     "output_type": "display_data"
    }
   ],
   "source": [
    "mosses_strlen = mosses.lokal.fillna('').str.len()\n",
    "mosses_strlen.plot.hist(\n",
    "    bins=20, xlim=(0, 300), range=(0, 300),\n",
    "    title='Mossor: antal tecken i fältet \"lokal\"')"
   ]
  },
  {
   "cell_type": "markdown",
   "metadata": {},
   "source": [
    "### Poster med koordinater\n",
    "\n",
    "Huvudsakligen tre typer av koordinater förekommer: (1) WGS84 (eller förmodad WGS84), (2) Rikets Nät 1990 (RT90) eller en RUBIN (dvs. alfanumeriska koordinater enligt Rikets Nät."
   ]
  },
  {
   "cell_type": "code",
   "execution_count": 14,
   "metadata": {
    "collapsed": false
   },
   "outputs": [
    {
     "data": {
      "text/plain": [
       "<matplotlib.axes._subplots.AxesSubplot at 0x10d2b7c50>"
      ]
     },
     "execution_count": 14,
     "metadata": {},
     "output_type": "execute_result"
    },
    {
     "data": {
      "image/png": "[encoded data removed]",
      "text/plain": [
       "<matplotlib.figure.Figure at 0x110a735c0>"
      ]
     },
     "metadata": {},
     "output_type": "display_data"
    }
   ],
   "source": [
    "mosses_coordinates = pd.DataFrame({\n",
    "        'WGS84': (mosses['latitud_grad'].notnull() & mosses['longitud_grad'].notnull()),\n",
    "        'RT90': (mosses.RT90E.notnull() & mosses.RT90N.notnull()),\n",
    "        'RUBIN': mosses.Rubin1.notnull()})\n",
    "mosses_coordinates.sum().plot.bar(title='Mossor: förekomst av koordinater')"
   ]
  },
  {
   "cell_type": "markdown",
   "metadata": {},
   "source": [
    "Antal poster med någon av koordinattyperna:"
   ]
  },
  {
   "cell_type": "code",
   "execution_count": 15,
   "metadata": {
    "collapsed": false
   },
   "outputs": [
    {
     "name": "stdout",
     "output_type": "stream",
     "text": [
      "13200 poster (10.5% av alla svenska poster)\n"
     ]
    }
   ],
   "source": [
    "mosses_coordinate_cnt = mosses_coordinates.any(axis=1).sum()\n",
    "mosses_coordinate_frq = mosses_coordinate_cnt / mosses_tot_cnt\n",
    "print(\n",
    "    '{} poster ({:.1%} av alla svenska poster)'\n",
    "    .format(mosses_coordinate_cnt, mosses_coordinate_frq))"
   ]
  },
  {
   "cell_type": "markdown",
   "metadata": {},
   "source": [
    "# Lokalinformation för alger"
   ]
  },
  {
   "cell_type": "code",
   "execution_count": 16,
   "metadata": {
    "collapsed": false
   },
   "outputs": [
    {
     "data": {
      "text/html": [
       "<div>\n",
       "<table border=\"1\" class=\"dataframe\">\n",
       "  <thead>\n",
       "    <tr style=\"text-align: right;\">\n",
       "      <th></th>\n",
       "      <th>provins</th>\n",
       "      <th>distrikt</th>\n",
       "      <th>lokal</th>\n",
       "      <th>RT90E</th>\n",
       "      <th>RT90N</th>\n",
       "      <th>Rubin1</th>\n",
       "      <th>latitud_grad</th>\n",
       "      <th>longitud_grad</th>\n",
       "    </tr>\n",
       "  </thead>\n",
       "  <tbody>\n",
       "    <tr>\n",
       "      <th>8092</th>\n",
       "      <td>Bohuslän</td>\n",
       "      <td>Strömstad</td>\n",
       "      <td>Sweden, Bohuslän, Tjärnö - Koster</td>\n",
       "      <td>NaN</td>\n",
       "      <td>NaN</td>\n",
       "      <td>NaN</td>\n",
       "      <td>NaN</td>\n",
       "      <td>NaN</td>\n",
       "    </tr>\n",
       "    <tr>\n",
       "      <th>8093</th>\n",
       "      <td>Bohuslän</td>\n",
       "      <td>Strömstad</td>\n",
       "      <td>Sweden, Bohuslän, Tjärnö - Koster</td>\n",
       "      <td>NaN</td>\n",
       "      <td>NaN</td>\n",
       "      <td>NaN</td>\n",
       "      <td>NaN</td>\n",
       "      <td>NaN</td>\n",
       "    </tr>\n",
       "    <tr>\n",
       "      <th>8094</th>\n",
       "      <td>Bohuslän</td>\n",
       "      <td>Strömstad</td>\n",
       "      <td>Sweden, Bohuslän, Tjärnö - Koster</td>\n",
       "      <td>NaN</td>\n",
       "      <td>NaN</td>\n",
       "      <td>NaN</td>\n",
       "      <td>NaN</td>\n",
       "      <td>NaN</td>\n",
       "    </tr>\n",
       "    <tr>\n",
       "      <th>8095</th>\n",
       "      <td>Bohuslän</td>\n",
       "      <td>Strömstad</td>\n",
       "      <td>Sweden, Bohuslän, Tjärnö. Koord.: 58°53'N 11°8'E</td>\n",
       "      <td>NaN</td>\n",
       "      <td>NaN</td>\n",
       "      <td>NaN</td>\n",
       "      <td>NaN</td>\n",
       "      <td>NaN</td>\n",
       "    </tr>\n",
       "    <tr>\n",
       "      <th>8096</th>\n",
       "      <td>Bohuslän</td>\n",
       "      <td>Strömstad</td>\n",
       "      <td>Sweden, Bohuslän, Tjärnö marinbiologiska stati...</td>\n",
       "      <td>NaN</td>\n",
       "      <td>NaN</td>\n",
       "      <td>NaN</td>\n",
       "      <td>NaN</td>\n",
       "      <td>NaN</td>\n",
       "    </tr>\n",
       "    <tr>\n",
       "      <th>8097</th>\n",
       "      <td>Bohuslän</td>\n",
       "      <td>Strömstad</td>\n",
       "      <td>Sweden, Bohuslän, Tjärnö. Koord.: 58°53'N 11°8'E</td>\n",
       "      <td>NaN</td>\n",
       "      <td>NaN</td>\n",
       "      <td>NaN</td>\n",
       "      <td>NaN</td>\n",
       "      <td>NaN</td>\n",
       "    </tr>\n",
       "    <tr>\n",
       "      <th>8098</th>\n",
       "      <td>Bohuslän</td>\n",
       "      <td>Strömstad</td>\n",
       "      <td>Sweden, Bohuslän, Tjärnö - Koster</td>\n",
       "      <td>NaN</td>\n",
       "      <td>NaN</td>\n",
       "      <td>NaN</td>\n",
       "      <td>NaN</td>\n",
       "      <td>NaN</td>\n",
       "    </tr>\n",
       "    <tr>\n",
       "      <th>8099</th>\n",
       "      <td>Bohuslän</td>\n",
       "      <td>Strömstad</td>\n",
       "      <td>Sweden, Bohuslän, Tjärnö. Koord.: 58°53'N 11°8'E</td>\n",
       "      <td>NaN</td>\n",
       "      <td>NaN</td>\n",
       "      <td>NaN</td>\n",
       "      <td>NaN</td>\n",
       "      <td>NaN</td>\n",
       "    </tr>\n",
       "    <tr>\n",
       "      <th>8100</th>\n",
       "      <td>Bohuslän</td>\n",
       "      <td>Skaftö</td>\n",
       "      <td>Kilen.</td>\n",
       "      <td>NaN</td>\n",
       "      <td>NaN</td>\n",
       "      <td>NaN</td>\n",
       "      <td>NaN</td>\n",
       "      <td>NaN</td>\n",
       "    </tr>\n",
       "    <tr>\n",
       "      <th>8101</th>\n",
       "      <td>Skåne</td>\n",
       "      <td>Helsingborg</td>\n",
       "      <td>Helsingborg.</td>\n",
       "      <td>NaN</td>\n",
       "      <td>NaN</td>\n",
       "      <td>NaN</td>\n",
       "      <td>NaN</td>\n",
       "      <td>NaN</td>\n",
       "    </tr>\n",
       "  </tbody>\n",
       "</table>\n",
       "</div>"
      ],
      "text/plain": [
       "       provins     distrikt  \\\n",
       "8092  Bohuslän    Strömstad   \n",
       "8093  Bohuslän    Strömstad   \n",
       "8094  Bohuslän    Strömstad   \n",
       "8095  Bohuslän    Strömstad   \n",
       "8096  Bohuslän    Strömstad   \n",
       "8097  Bohuslän    Strömstad   \n",
       "8098  Bohuslän    Strömstad   \n",
       "8099  Bohuslän    Strömstad   \n",
       "8100  Bohuslän       Skaftö   \n",
       "8101     Skåne  Helsingborg   \n",
       "\n",
       "                                                  lokal RT90E RT90N Rubin1  \\\n",
       "8092                  Sweden, Bohuslän, Tjärnö - Koster   NaN   NaN    NaN   \n",
       "8093                  Sweden, Bohuslän, Tjärnö - Koster   NaN   NaN    NaN   \n",
       "8094                  Sweden, Bohuslän, Tjärnö - Koster   NaN   NaN    NaN   \n",
       "8095   Sweden, Bohuslän, Tjärnö. Koord.: 58°53'N 11°8'E   NaN   NaN    NaN   \n",
       "8096  Sweden, Bohuslän, Tjärnö marinbiologiska stati...   NaN   NaN    NaN   \n",
       "8097   Sweden, Bohuslän, Tjärnö. Koord.: 58°53'N 11°8'E   NaN   NaN    NaN   \n",
       "8098                  Sweden, Bohuslän, Tjärnö - Koster   NaN   NaN    NaN   \n",
       "8099   Sweden, Bohuslän, Tjärnö. Koord.: 58°53'N 11°8'E   NaN   NaN    NaN   \n",
       "8100                                             Kilen.   NaN   NaN    NaN   \n",
       "8101                                       Helsingborg.   NaN   NaN    NaN   \n",
       "\n",
       "     latitud_grad longitud_grad  \n",
       "8092          NaN           NaN  \n",
       "8093          NaN           NaN  \n",
       "8094          NaN           NaN  \n",
       "8095          NaN           NaN  \n",
       "8096          NaN           NaN  \n",
       "8097          NaN           NaN  \n",
       "8098          NaN           NaN  \n",
       "8099          NaN           NaN  \n",
       "8100          NaN           NaN  \n",
       "8101          NaN           NaN  "
      ]
     },
     "execution_count": 16,
     "metadata": {},
     "output_type": "execute_result"
    }
   ],
   "source": [
    "algae = pd.read_csv('s-algae-20160331.csv', encoding='utf8', dtype='unicode')\n",
    "algae.tail(10)"
   ]
  },
  {
   "cell_type": "markdown",
   "metadata": {},
   "source": [
    "### Antal svenska föremålsposter"
   ]
  },
  {
   "cell_type": "code",
   "execution_count": 17,
   "metadata": {
    "collapsed": false
   },
   "outputs": [
    {
     "data": {
      "text/plain": [
       "8102"
      ]
     },
     "execution_count": 17,
     "metadata": {},
     "output_type": "execute_result"
    }
   ],
   "source": [
    "algae_tot_cnt = len(algae)\n",
    "algae_tot_cnt"
   ]
  },
  {
   "cell_type": "markdown",
   "metadata": {},
   "source": [
    "### Poster med information om landskap"
   ]
  },
  {
   "cell_type": "code",
   "execution_count": 18,
   "metadata": {
    "collapsed": false
   },
   "outputs": [
    {
     "name": "stdout",
     "output_type": "stream",
     "text": [
      "7869 poster (97.1% av alla svenska poster)\n"
     ]
    }
   ],
   "source": [
    "algae_landskap_cnt = algae.provins.notnull().sum()\n",
    "algae_landskap_frq = algae_landskap_cnt / algae_tot_cnt\n",
    "print(\n",
    "    '{} poster ({:.1%} av alla svenska poster)'\n",
    "    .format(algae_landskap_cnt, algae_landskap_frq))"
   ]
  },
  {
   "cell_type": "markdown",
   "metadata": {},
   "source": [
    "### Poster med information om socken"
   ]
  },
  {
   "cell_type": "code",
   "execution_count": 19,
   "metadata": {
    "collapsed": false
   },
   "outputs": [
    {
     "name": "stdout",
     "output_type": "stream",
     "text": [
      "6161 poster (76.0% av alla svenska poster)\n"
     ]
    }
   ],
   "source": [
    "algae_socken_cnt = algae.distrikt.notnull().sum()\n",
    "algae_socken_frq = algae_socken_cnt / algae_tot_cnt\n",
    "print(\n",
    "    '{} poster ({:.1%} av alla svenska poster)'\n",
    "    .format(algae_socken_cnt, algae_socken_frq))"
   ]
  },
  {
   "cell_type": "markdown",
   "metadata": {},
   "source": [
    "### Poster med detaljerad lokalinformation\n",
    "\n",
    "Fördelningen hos antalet tecken i fältet \"lokal\". Textlängder upp till 300 tecken visas."
   ]
  },
  {
   "cell_type": "code",
   "execution_count": 20,
   "metadata": {
    "collapsed": false
   },
   "outputs": [
    {
     "data": {
      "text/plain": [
       "<matplotlib.axes._subplots.AxesSubplot at 0x1118abb00>"
      ]
     },
     "execution_count": 20,
     "metadata": {},
     "output_type": "execute_result"
    },
    {
     "data": {
      "image/png": "[encoded data removed]",
      "text/plain": [
       "<matplotlib.figure.Figure at 0x1204f4da0>"
      ]
     },
     "metadata": {},
     "output_type": "display_data"
    }
   ],
   "source": [
    "algae_strlen = algae.lokal.fillna('').str.len()\n",
    "algae_strlen.plot.hist(\n",
    "    bins=20, xlim=(0, 300), range=(0, 300),\n",
    "    title='Alger: antal tecken i fältet \"lokal\"')"
   ]
  },
  {
   "cell_type": "markdown",
   "metadata": {},
   "source": [
    "### Poster med koordinater\n",
    "\n",
    "Huvudsakligen tre typer av koordinater förekommer: (1) WGS84 (eller förmodad WGS84), (2) Rikets Nät 1990 (RT90) eller en RUBIN (dvs. alfanumeriska koordinater enligt Rikets Nät."
   ]
  },
  {
   "cell_type": "code",
   "execution_count": 21,
   "metadata": {
    "collapsed": false
   },
   "outputs": [
    {
     "data": {
      "text/plain": [
       "<matplotlib.axes._subplots.AxesSubplot at 0x112ad1a58>"
      ]
     },
     "execution_count": 21,
     "metadata": {},
     "output_type": "execute_result"
    },
    {
     "data": {
      "image/png": "[encoded data removed]",
      "text/plain": [
       "<matplotlib.figure.Figure at 0x110c32c50>"
      ]
     },
     "metadata": {},
     "output_type": "display_data"
    }
   ],
   "source": [
    "algae_coordinates = pd.DataFrame({\n",
    "        'WGS84': (algae['latitud_grad'].notnull() & algae['longitud_grad'].notnull()),\n",
    "        'RT90': (algae.RT90E.notnull() & algae.RT90N.notnull()),\n",
    "        'RUBIN': algae.Rubin1.notnull()})\n",
    "algae_coordinates.sum().plot.bar(title='Alger: förekomst av koordinater')"
   ]
  },
  {
   "cell_type": "markdown",
   "metadata": {},
   "source": [
    "Antal poster med någon av koordinattyperna:"
   ]
  },
  {
   "cell_type": "code",
   "execution_count": 22,
   "metadata": {
    "collapsed": false
   },
   "outputs": [
    {
     "name": "stdout",
     "output_type": "stream",
     "text": [
      "5 poster (0.1% av alla svenska poster)\n"
     ]
    }
   ],
   "source": [
    "algae_coordinate_cnt = algae_coordinates.any(axis=1).sum()\n",
    "algae_coordinate_frq = algae_coordinate_cnt / algae_tot_cnt\n",
    "print(\n",
    "    '{} poster ({:.1%} av alla svenska poster)'\n",
    "    .format(algae_coordinate_cnt, algae_coordinate_frq))"
   ]
  },
  {
   "cell_type": "markdown",
   "metadata": {},
   "source": [
    "# Lokalinformation för svampar och lavar"
   ]
  },
  {
   "cell_type": "code",
   "execution_count": 23,
   "metadata": {
    "collapsed": false
   },
   "outputs": [
    {
     "data": {
      "text/html": [
       "<div>\n",
       "<table border=\"1\" class=\"dataframe\">\n",
       "  <thead>\n",
       "    <tr style=\"text-align: right;\">\n",
       "      <th></th>\n",
       "      <th>provins</th>\n",
       "      <th>distrikt</th>\n",
       "      <th>lokal</th>\n",
       "      <th>RT90E</th>\n",
       "      <th>RT90N</th>\n",
       "      <th>Rubin1</th>\n",
       "      <th>latitud_grad</th>\n",
       "      <th>longitud_grad</th>\n",
       "    </tr>\n",
       "  </thead>\n",
       "  <tbody>\n",
       "    <tr>\n",
       "      <th>170251</th>\n",
       "      <td>Östergötland</td>\n",
       "      <td>Skedevi</td>\n",
       "      <td>Östergötland, Skedevi s:n, Rejmyra</td>\n",
       "      <td>NaN</td>\n",
       "      <td>NaN</td>\n",
       "      <td>NaN</td>\n",
       "      <td>NaN</td>\n",
       "      <td>NaN</td>\n",
       "    </tr>\n",
       "    <tr>\n",
       "      <th>170252</th>\n",
       "      <td>Uppland</td>\n",
       "      <td>Uppsala</td>\n",
       "      <td>Uppland, Bondkyrka, Ultuna, Sunnersta skogen</td>\n",
       "      <td>NaN</td>\n",
       "      <td>NaN</td>\n",
       "      <td>NaN</td>\n",
       "      <td>NaN</td>\n",
       "      <td>NaN</td>\n",
       "    </tr>\n",
       "    <tr>\n",
       "      <th>170253</th>\n",
       "      <td>Uppland</td>\n",
       "      <td>Uppsala</td>\n",
       "      <td>Uppland, Bondkyrka, Ultuna</td>\n",
       "      <td>NaN</td>\n",
       "      <td>NaN</td>\n",
       "      <td>NaN</td>\n",
       "      <td>NaN</td>\n",
       "      <td>NaN</td>\n",
       "    </tr>\n",
       "    <tr>\n",
       "      <th>170254</th>\n",
       "      <td>Uppland</td>\n",
       "      <td>Uppsala</td>\n",
       "      <td>Uppland, Uppsala, Sunnersta skogen</td>\n",
       "      <td>NaN</td>\n",
       "      <td>NaN</td>\n",
       "      <td>NaN</td>\n",
       "      <td>NaN</td>\n",
       "      <td>NaN</td>\n",
       "    </tr>\n",
       "    <tr>\n",
       "      <th>170255</th>\n",
       "      <td>Uppland</td>\n",
       "      <td>Uppsala</td>\n",
       "      <td>Uppland, Uppsala, Kungsparken</td>\n",
       "      <td>NaN</td>\n",
       "      <td>NaN</td>\n",
       "      <td>NaN</td>\n",
       "      <td>NaN</td>\n",
       "      <td>NaN</td>\n",
       "    </tr>\n",
       "    <tr>\n",
       "      <th>170256</th>\n",
       "      <td>Uppland</td>\n",
       "      <td>Uppsala</td>\n",
       "      <td>Uppland, Uppsala, Kungsparken</td>\n",
       "      <td>NaN</td>\n",
       "      <td>NaN</td>\n",
       "      <td>NaN</td>\n",
       "      <td>NaN</td>\n",
       "      <td>NaN</td>\n",
       "    </tr>\n",
       "    <tr>\n",
       "      <th>170257</th>\n",
       "      <td>Uppland</td>\n",
       "      <td>Uppsala</td>\n",
       "      <td>Uppland, Uppsala, Södra Åsen</td>\n",
       "      <td>NaN</td>\n",
       "      <td>NaN</td>\n",
       "      <td>NaN</td>\n",
       "      <td>NaN</td>\n",
       "      <td>NaN</td>\n",
       "    </tr>\n",
       "    <tr>\n",
       "      <th>170258</th>\n",
       "      <td>Uppland</td>\n",
       "      <td>Uppsala</td>\n",
       "      <td>Uppland, Uppsala, S. Åsen</td>\n",
       "      <td>NaN</td>\n",
       "      <td>NaN</td>\n",
       "      <td>NaN</td>\n",
       "      <td>NaN</td>\n",
       "      <td>NaN</td>\n",
       "    </tr>\n",
       "    <tr>\n",
       "      <th>170259</th>\n",
       "      <td>Uppland</td>\n",
       "      <td>Uppsala</td>\n",
       "      <td>Uppland, Uppsala, Grindstuguskogen</td>\n",
       "      <td>NaN</td>\n",
       "      <td>NaN</td>\n",
       "      <td>NaN</td>\n",
       "      <td>NaN</td>\n",
       "      <td>NaN</td>\n",
       "    </tr>\n",
       "    <tr>\n",
       "      <th>170260</th>\n",
       "      <td>Uppland</td>\n",
       "      <td>Uppsala</td>\n",
       "      <td>Uppland, Uppsala, Löfgrens villa</td>\n",
       "      <td>NaN</td>\n",
       "      <td>NaN</td>\n",
       "      <td>NaN</td>\n",
       "      <td>NaN</td>\n",
       "      <td>NaN</td>\n",
       "    </tr>\n",
       "  </tbody>\n",
       "</table>\n",
       "</div>"
      ],
      "text/plain": [
       "             provins distrikt                                         lokal  \\\n",
       "170251  Östergötland  Skedevi            Östergötland, Skedevi s:n, Rejmyra   \n",
       "170252       Uppland  Uppsala  Uppland, Bondkyrka, Ultuna, Sunnersta skogen   \n",
       "170253       Uppland  Uppsala                    Uppland, Bondkyrka, Ultuna   \n",
       "170254       Uppland  Uppsala            Uppland, Uppsala, Sunnersta skogen   \n",
       "170255       Uppland  Uppsala                 Uppland, Uppsala, Kungsparken   \n",
       "170256       Uppland  Uppsala                 Uppland, Uppsala, Kungsparken   \n",
       "170257       Uppland  Uppsala                  Uppland, Uppsala, Södra Åsen   \n",
       "170258       Uppland  Uppsala                     Uppland, Uppsala, S. Åsen   \n",
       "170259       Uppland  Uppsala            Uppland, Uppsala, Grindstuguskogen   \n",
       "170260       Uppland  Uppsala              Uppland, Uppsala, Löfgrens villa   \n",
       "\n",
       "       RT90E RT90N Rubin1 latitud_grad longitud_grad  \n",
       "170251   NaN   NaN    NaN          NaN           NaN  \n",
       "170252   NaN   NaN    NaN          NaN           NaN  \n",
       "170253   NaN   NaN    NaN          NaN           NaN  \n",
       "170254   NaN   NaN    NaN          NaN           NaN  \n",
       "170255   NaN   NaN    NaN          NaN           NaN  \n",
       "170256   NaN   NaN    NaN          NaN           NaN  \n",
       "170257   NaN   NaN    NaN          NaN           NaN  \n",
       "170258   NaN   NaN    NaN          NaN           NaN  \n",
       "170259   NaN   NaN    NaN          NaN           NaN  \n",
       "170260   NaN   NaN    NaN          NaN           NaN  "
      ]
     },
     "execution_count": 23,
     "metadata": {},
     "output_type": "execute_result"
    }
   ],
   "source": [
    "fungi = pd.read_csv('s-fungi-20160331.csv', encoding='utf8', dtype='unicode')\n",
    "fungi.tail(10)"
   ]
  },
  {
   "cell_type": "markdown",
   "metadata": {},
   "source": [
    "### Antal svenska föremålsposter"
   ]
  },
  {
   "cell_type": "code",
   "execution_count": 24,
   "metadata": {
    "collapsed": false
   },
   "outputs": [
    {
     "data": {
      "text/plain": [
       "170261"
      ]
     },
     "execution_count": 24,
     "metadata": {},
     "output_type": "execute_result"
    }
   ],
   "source": [
    "fungi_tot_cnt = len(fungi)\n",
    "fungi_tot_cnt"
   ]
  },
  {
   "cell_type": "markdown",
   "metadata": {},
   "source": [
    "### Poster med information om landskap"
   ]
  },
  {
   "cell_type": "code",
   "execution_count": 25,
   "metadata": {
    "collapsed": false
   },
   "outputs": [
    {
     "name": "stdout",
     "output_type": "stream",
     "text": [
      "168684 poster (99.1% av alla svenska poster)\n"
     ]
    }
   ],
   "source": [
    "fungi_landskap_cnt = fungi.provins.notnull().sum()\n",
    "fungi_landskap_frq = fungi_landskap_cnt / fungi_tot_cnt\n",
    "print(\n",
    "    '{} poster ({:.1%} av alla svenska poster)'\n",
    "    .format(fungi_landskap_cnt, fungi_landskap_frq))"
   ]
  },
  {
   "cell_type": "markdown",
   "metadata": {},
   "source": [
    "### Poster med information om socken"
   ]
  },
  {
   "cell_type": "code",
   "execution_count": 26,
   "metadata": {
    "collapsed": false
   },
   "outputs": [
    {
     "name": "stdout",
     "output_type": "stream",
     "text": [
      "157149 poster (92.3% av alla svenska poster)\n"
     ]
    }
   ],
   "source": [
    "fungi_socken_cnt = fungi.distrikt.notnull().sum()\n",
    "fungi_socken_frq = fungi_socken_cnt / fungi_tot_cnt\n",
    "print(\n",
    "    '{} poster ({:.1%} av alla svenska poster)'\n",
    "    .format(fungi_socken_cnt, fungi_socken_frq))"
   ]
  },
  {
   "cell_type": "markdown",
   "metadata": {},
   "source": [
    "### Poster med detaljerad lokalinformation\n",
    "\n",
    "Fördelningen hos antalet tecken i fältet \"lokal\". Textlängder upp till 300 tecken visas."
   ]
  },
  {
   "cell_type": "code",
   "execution_count": 27,
   "metadata": {
    "collapsed": false
   },
   "outputs": [
    {
     "data": {
      "text/plain": [
       "<matplotlib.axes._subplots.AxesSubplot at 0x116a0fd68>"
      ]
     },
     "execution_count": 27,
     "metadata": {},
     "output_type": "execute_result"
    },
    {
     "data": {
      "image/png": "[encoded data removed]",
      "text/plain": [
       "<matplotlib.figure.Figure at 0x116a0f438>"
      ]
     },
     "metadata": {},
     "output_type": "display_data"
    }
   ],
   "source": [
    "fungi_strlen = fungi.lokal.fillna('').str.len()\n",
    "fungi_strlen.plot.hist(\n",
    "    bins=20, xlim=(0, 300), range=(0, 300),\n",
    "    title='Svampar: antal tecken i fältet \"lokal\"')"
   ]
  },
  {
   "cell_type": "markdown",
   "metadata": {},
   "source": [
    "### Poster med koordinater\n",
    "\n",
    "Huvudsakligen tre typer av koordinater förekommer: (1) WGS84 (eller förmodad WGS84), (2) Rikets Nät 1990 (RT90) eller en RUBIN (dvs. alfanumeriska koordinater enligt Rikets Nät."
   ]
  },
  {
   "cell_type": "code",
   "execution_count": 28,
   "metadata": {
    "collapsed": false
   },
   "outputs": [
    {
     "data": {
      "text/plain": [
       "<matplotlib.axes._subplots.AxesSubplot at 0x11709aa58>"
      ]
     },
     "execution_count": 28,
     "metadata": {},
     "output_type": "execute_result"
    },
    {
     "data": {
      "image/png": "[encoded data removed]",
      "text/plain": [
       "<matplotlib.figure.Figure at 0x11709ed30>"
      ]
     },
     "metadata": {},
     "output_type": "display_data"
    }
   ],
   "source": [
    "fungi_coordinates = pd.DataFrame({\n",
    "        'WGS84': (fungi['latitud_grad'].notnull() & fungi['longitud_grad'].notnull()),\n",
    "        'RT90': (fungi.RT90E.notnull() & fungi.RT90N.notnull()),\n",
    "        'RUBIN': fungi.Rubin1.notnull()})\n",
    "fungi_coordinates.sum().plot.bar(title='Svampar: förekomst av koordinater')"
   ]
  },
  {
   "cell_type": "markdown",
   "metadata": {},
   "source": [
    "Antal poster med någon av koordinattyperna:"
   ]
  },
  {
   "cell_type": "code",
   "execution_count": 29,
   "metadata": {
    "collapsed": false
   },
   "outputs": [
    {
     "name": "stdout",
     "output_type": "stream",
     "text": [
      "8160 poster (4.8% av alla svenska poster)\n"
     ]
    }
   ],
   "source": [
    "fungi_coordinate_cnt = fungi_coordinates.any(axis=1).sum()\n",
    "fungi_coordinate_frq = fungi_coordinate_cnt / fungi_tot_cnt\n",
    "print(\n",
    "    '{} poster ({:.1%} av alla svenska poster)'\n",
    "    .format(fungi_coordinate_cnt, fungi_coordinate_frq))"
   ]
  },
  {
   "cell_type": "markdown",
   "metadata": {},
   "source": [
    "# Lokalinformation i den entomologiska samlingen\n",
    "\n",
    "Följande SQL-fråga kördes mot Specify-databasen för att ta ut alla poster med föremål som samlats in i **Sverige**.\n",
    "\n",
    "```    \n",
    "SELECT \n",
    "    collectionobject.remarks,\n",
    "    locality.localityname,\n",
    "    CONCAT_WS(\n",
    "\t\t', ', CAST(latitude1 AS CHAR), CAST(longitude1 AS CHAR)\n",
    "\t) AS coordinate,\n",
    "    locality.disciplineid,\n",
    "    geography.fullname\n",
    "FROM\n",
    "    collectionobject\n",
    "        INNER JOIN\n",
    "    collection USING (collectionid)\n",
    "        LEFT JOIN\n",
    "    collectingevent USING (collectingeventid)\n",
    "        LEFT JOIN\n",
    "    locality USING (localityid)\n",
    "        LEFT JOIN\n",
    "    geography USING (geographyid)\n",
    "WHERE\n",
    "    collection.code = 'NHRS' AND\n",
    "    geography.fullname LIKE '%Sweden%'\n",
    "LIMIT 100000\n",
    ";\n",
    "\n",
    "```\n",
    "\n",
    "Posterna exporteras till CSV och läses sedan in i Python:"
   ]
  },
  {
   "cell_type": "code",
   "execution_count": 30,
   "metadata": {
    "collapsed": true
   },
   "outputs": [],
   "source": [
    "nhrs = pd.read_csv('nhrs-20160407.csv', encoding='utf8')"
   ]
  },
  {
   "cell_type": "markdown",
   "metadata": {},
   "source": [
    "Låt oss ta en titt på hur data ser ut (här visas de 10 sista posterna):"
   ]
  },
  {
   "cell_type": "code",
   "execution_count": 31,
   "metadata": {
    "collapsed": false
   },
   "outputs": [
    {
     "data": {
      "text/html": [
       "<div>\n",
       "<table border=\"1\" class=\"dataframe\">\n",
       "  <thead>\n",
       "    <tr style=\"text-align: right;\">\n",
       "      <th></th>\n",
       "      <th>remarks</th>\n",
       "      <th>localityname</th>\n",
       "      <th>coordinate</th>\n",
       "      <th>disciplineid</th>\n",
       "      <th>fullname</th>\n",
       "    </tr>\n",
       "  </thead>\n",
       "  <tbody>\n",
       "    <tr>\n",
       "      <th>45837</th>\n",
       "      <td>Anthrax\\r\\nhottentotta L.\\r\\n\\r\\nSdm Huddinge\\...</td>\n",
       "      <td>Ågesta</td>\n",
       "      <td>59.2333000000, 18.0833000000</td>\n",
       "      <td>3</td>\n",
       "      <td>Södermanland, Sweden</td>\n",
       "    </tr>\n",
       "    <tr>\n",
       "      <th>45838</th>\n",
       "      <td>SWEDEN, Skåne\\r\\nFlommen\\r\\n9.VII.2006\\r\\nR. H...</td>\n",
       "      <td>Flommen</td>\n",
       "      <td>55.4067000000, 12.8325000000</td>\n",
       "      <td>3</td>\n",
       "      <td>Skåne, Sweden</td>\n",
       "    </tr>\n",
       "    <tr>\n",
       "      <th>45839</th>\n",
       "      <td>SWEDEN, Skåne\\r\\nFlommen\\r\\n9.VII.2006\\r\\nR. H...</td>\n",
       "      <td>Flommen</td>\n",
       "      <td>55.4067000000, 12.8325000000</td>\n",
       "      <td>3</td>\n",
       "      <td>Skåne, Sweden</td>\n",
       "    </tr>\n",
       "    <tr>\n",
       "      <th>45840</th>\n",
       "      <td>SWEDEN, Skåne\\r\\nFlommen\\r\\n9.VII.2006\\r\\nR. H...</td>\n",
       "      <td>Flommen</td>\n",
       "      <td>55.4067000000, 12.8325000000</td>\n",
       "      <td>3</td>\n",
       "      <td>Skåne, Sweden</td>\n",
       "    </tr>\n",
       "    <tr>\n",
       "      <th>45841</th>\n",
       "      <td>SWEDEN, Skåne\\r\\nFlommen\\r\\n9.VII.2006\\r\\nR. H...</td>\n",
       "      <td>Flommen</td>\n",
       "      <td>55.4067000000, 12.8325000000</td>\n",
       "      <td>3</td>\n",
       "      <td>Skåne, Sweden</td>\n",
       "    </tr>\n",
       "    <tr>\n",
       "      <th>45842</th>\n",
       "      <td>SWEDEN: SÖ: Nyköping\\r\\nområdet runt Strandbad...</td>\n",
       "      <td>Strandbadet Byggninge</td>\n",
       "      <td>58.7817000000, 17.4050000000</td>\n",
       "      <td>3</td>\n",
       "      <td>Södermanland, Sweden</td>\n",
       "    </tr>\n",
       "    <tr>\n",
       "      <th>45843</th>\n",
       "      <td>NaN</td>\n",
       "      <td>Ostro Gothiae</td>\n",
       "      <td>NaN</td>\n",
       "      <td>3</td>\n",
       "      <td>Östergötland, Sweden</td>\n",
       "    </tr>\n",
       "    <tr>\n",
       "      <th>45844</th>\n",
       "      <td>NaN</td>\n",
       "      <td>Oelandia</td>\n",
       "      <td>NaN</td>\n",
       "      <td>3</td>\n",
       "      <td>Öland, Sweden</td>\n",
       "    </tr>\n",
       "    <tr>\n",
       "      <th>45845</th>\n",
       "      <td>NaN</td>\n",
       "      <td>Oelandia</td>\n",
       "      <td>NaN</td>\n",
       "      <td>3</td>\n",
       "      <td>Öland, Sweden</td>\n",
       "    </tr>\n",
       "    <tr>\n",
       "      <th>45846</th>\n",
       "      <td>NaN</td>\n",
       "      <td>Gotland [No precise locality information avail...</td>\n",
       "      <td>NaN</td>\n",
       "      <td>3</td>\n",
       "      <td>Gotland, Sweden</td>\n",
       "    </tr>\n",
       "  </tbody>\n",
       "</table>\n",
       "</div>"
      ],
      "text/plain": [
       "                                                 remarks  \\\n",
       "45837  Anthrax\\r\\nhottentotta L.\\r\\n\\r\\nSdm Huddinge\\...   \n",
       "45838  SWEDEN, Skåne\\r\\nFlommen\\r\\n9.VII.2006\\r\\nR. H...   \n",
       "45839  SWEDEN, Skåne\\r\\nFlommen\\r\\n9.VII.2006\\r\\nR. H...   \n",
       "45840  SWEDEN, Skåne\\r\\nFlommen\\r\\n9.VII.2006\\r\\nR. H...   \n",
       "45841  SWEDEN, Skåne\\r\\nFlommen\\r\\n9.VII.2006\\r\\nR. H...   \n",
       "45842  SWEDEN: SÖ: Nyköping\\r\\nområdet runt Strandbad...   \n",
       "45843                                                NaN   \n",
       "45844                                                NaN   \n",
       "45845                                                NaN   \n",
       "45846                                                NaN   \n",
       "\n",
       "                                            localityname  \\\n",
       "45837                                             Ågesta   \n",
       "45838                                            Flommen   \n",
       "45839                                            Flommen   \n",
       "45840                                            Flommen   \n",
       "45841                                            Flommen   \n",
       "45842                              Strandbadet Byggninge   \n",
       "45843                                      Ostro Gothiae   \n",
       "45844                                           Oelandia   \n",
       "45845                                           Oelandia   \n",
       "45846  Gotland [No precise locality information avail...   \n",
       "\n",
       "                         coordinate  disciplineid              fullname  \n",
       "45837  59.2333000000, 18.0833000000             3  Södermanland, Sweden  \n",
       "45838  55.4067000000, 12.8325000000             3         Skåne, Sweden  \n",
       "45839  55.4067000000, 12.8325000000             3         Skåne, Sweden  \n",
       "45840  55.4067000000, 12.8325000000             3         Skåne, Sweden  \n",
       "45841  55.4067000000, 12.8325000000             3         Skåne, Sweden  \n",
       "45842  58.7817000000, 17.4050000000             3  Södermanland, Sweden  \n",
       "45843                           NaN             3  Östergötland, Sweden  \n",
       "45844                           NaN             3         Öland, Sweden  \n",
       "45845                           NaN             3         Öland, Sweden  \n",
       "45846                           NaN             3       Gotland, Sweden  "
      ]
     },
     "execution_count": 31,
     "metadata": {},
     "output_type": "execute_result"
    }
   ],
   "source": [
    "nhrs.tail(10)"
   ]
  },
  {
   "cell_type": "markdown",
   "metadata": {},
   "source": [
    "### Antal svenska föremålsposter"
   ]
  },
  {
   "cell_type": "code",
   "execution_count": 32,
   "metadata": {
    "collapsed": false
   },
   "outputs": [
    {
     "data": {
      "text/plain": [
       "45847"
      ]
     },
     "execution_count": 32,
     "metadata": {},
     "output_type": "execute_result"
    }
   ],
   "source": [
    "nhrs_tot_cnt = len(nhrs)\n",
    "nhrs_tot_cnt"
   ]
  },
  {
   "cell_type": "markdown",
   "metadata": {},
   "source": [
    "### Poster med information om landskap\n",
    "\n",
    "Vi kollar också upp hur många poster som för närvarande är kopplade till landskap:"
   ]
  },
  {
   "cell_type": "code",
   "execution_count": 33,
   "metadata": {
    "collapsed": false
   },
   "outputs": [
    {
     "name": "stdout",
     "output_type": "stream",
     "text": [
      "43281 poster (94.4% av alla svenska poster)\n"
     ]
    }
   ],
   "source": [
    "landskap = [\n",
    "    'Blekinge', 'Bohuslän', 'Dalarna', 'Dalsland', 'Gotland',\n",
    "    'Gästrikland', 'Halland', 'Hälsingland', 'Härjedalen', 'Jämtland',\n",
    "    'Lappland', 'Lule Lappmark', 'Lycksele Lappmark', 'Medelpad',\n",
    "    'Norrbotten', 'Närke', 'Pite Lappmark', 'Skåne', 'Småland',\n",
    "    'Södermanland', 'Torne Lappmark', 'Uppland', 'Värmland',\n",
    "    'Västerbotten', 'Västergötland', 'Västmanland', 'Ångermanland',\n",
    "    'Åsele Lappmark', 'Öland', 'Östergötland']\n",
    "\n",
    "matches = []\n",
    "for lskp in landskap:\n",
    "    matches.append(nhrs.fullname.str.contains(lskp))\n",
    "nhrs_landskap_cnt = pd.concat(matches).sum()\n",
    "nhrs_landskap_frq = nhrs_landskap_cnt / nhrs_tot_cnt\n",
    "print(\n",
    "    '{} poster ({:.1%} av alla svenska poster)'\n",
    "    .format(nhrs_landskap_cnt, nhrs_landskap_frq))"
   ]
  },
  {
   "cell_type": "markdown",
   "metadata": {},
   "source": [
    "### Poster med etikettavskrift\n",
    "\n",
    "Information om lokal kan man hitta i text som skrivits av från etiketter. Här räknas antalet svenska föremålsposter som troligen har en etikettavskrift (värdet är sannolikt överskattat eftersom fältet \"remarks\" även kan innehålla annat än ren etikettavskrift):"
   ]
  },
  {
   "cell_type": "code",
   "execution_count": 34,
   "metadata": {
    "collapsed": false
   },
   "outputs": [
    {
     "name": "stdout",
     "output_type": "stream",
     "text": [
      "24037 poster (52.4% av alla svenska poster)\n"
     ]
    }
   ],
   "source": [
    "nhrs_labeltext_cnt = nhrs.remarks.notnull().sum()\n",
    "nhrs_labeltext_frq = nhrs_labeltext_cnt / nhrs_tot_cnt\n",
    "print(\n",
    "    '{} poster ({:.1%} av alla svenska poster)'\n",
    "    .format(nhrs_labeltext_cnt, nhrs_labeltext_frq))"
   ]
  },
  {
   "cell_type": "markdown",
   "metadata": {},
   "source": [
    "### Poster som bör kunna kopplas till socken\n",
    "\n",
    "Här räknar vi antalet poster som relativt enkelt bör kunna kopplas ihop med en socken:"
   ]
  },
  {
   "cell_type": "code",
   "execution_count": 35,
   "metadata": {
    "collapsed": false
   },
   "outputs": [
    {
     "name": "stdout",
     "output_type": "stream",
     "text": [
      "289 poster (0.6% av alla svenska poster)\n"
     ]
    }
   ],
   "source": [
    "nhrs_remarks_socken_mask = nhrs.remarks.str.contains(\n",
    "    '\\ssn$|\\ssn[\\s\\.,;]|s:n|socken', na=False)\n",
    "nhrs_localityname_socken_mask = nhrs.localityname.str.contains(\n",
    "    '\\ssn$|\\ssn[\\s\\.,;]|s:n|socken', na=False)\n",
    "nhrs_socken_cnt = (nhrs_remarks_socken_mask | nhrs_localityname_socken_mask).sum()\n",
    "nhrs_socken_frq = nhrs_socken_cnt / nhrs_tot_cnt\n",
    "print(\n",
    "    '{} poster ({:.1%} av alla svenska poster)'\n",
    "    .format(nhrs_socken_cnt, nhrs_socken_frq))"
   ]
  },
  {
   "cell_type": "markdown",
   "metadata": {},
   "source": [
    "### Poster med detaljerad lokalinformation\n",
    "\n",
    "I den entomologiska samlingen är det svårt att filtrera ut poster med detaljerad information om insamlingsplatsen. Detta beror på att fältet \"localityname\" i Specify inte får lämnas tomt. Entomologerna brukar vanligtvis (dock inte alltid!) skriva \"No precise locality information avialable\" i fältet när detaljerad information saknas. Således kan vi räkna övriga poster:"
   ]
  },
  {
   "cell_type": "code",
   "execution_count": 36,
   "metadata": {
    "collapsed": false
   },
   "outputs": [
    {
     "name": "stdout",
     "output_type": "stream",
     "text": [
      "42541 poster (92.8% av alla svenska poster)\n"
     ]
    }
   ],
   "source": [
    "nhrs_detailed_locality_cnt = (~nhrs.localityname.str.contains('[Nn]o\\s+precise', na=True, regex=True)).sum()\n",
    "nhrs_detailed_locality_frq = nhrs_detailed_locality_cnt / nhrs_tot_cnt\n",
    "print(\n",
    "    '{} poster ({:.1%} av alla svenska poster)'\n",
    "    .format(nhrs_detailed_locality_cnt, nhrs_detailed_locality_frq))"
   ]
  },
  {
   "cell_type": "markdown",
   "metadata": {},
   "source": [
    "Fördelningen hos antalet tecken i fältet \"localityname\". Textlängder upp till 300 tecken visas."
   ]
  },
  {
   "cell_type": "code",
   "execution_count": 37,
   "metadata": {
    "collapsed": false
   },
   "outputs": [
    {
     "data": {
      "text/plain": [
       "<matplotlib.axes._subplots.AxesSubplot at 0x10f16db38>"
      ]
     },
     "execution_count": 37,
     "metadata": {},
     "output_type": "execute_result"
    },
    {
     "data": {
      "image/png": "[encoded data removed]",
      "text/plain": [
       "<matplotlib.figure.Figure at 0x10f124e10>"
      ]
     },
     "metadata": {},
     "output_type": "display_data"
    }
   ],
   "source": [
    "nhrs_localityname_strlen = nhrs.localityname.fillna('').str.len()\n",
    "nhrs_localityname_strlen.plot.hist(\n",
    "    bins=20, xlim=(0, 300), ylim=(0, 30000), range=(0, 300),\n",
    "    title='NHRS: antal tecken i fältet \"localityname\"')"
   ]
  },
  {
   "cell_type": "markdown",
   "metadata": {},
   "source": [
    "Fördelningen hos antalet tecken i fältet \"remarks\". Textlängder upp till 300 tecken visas."
   ]
  },
  {
   "cell_type": "code",
   "execution_count": 38,
   "metadata": {
    "collapsed": false
   },
   "outputs": [
    {
     "data": {
      "text/plain": [
       "<matplotlib.axes._subplots.AxesSubplot at 0x10f1246a0>"
      ]
     },
     "execution_count": 38,
     "metadata": {},
     "output_type": "execute_result"
    },
    {
     "data": {
      "image/png": "[encoded data removed]",
      "text/plain": [
       "<matplotlib.figure.Figure at 0x11aecfcf8>"
      ]
     },
     "metadata": {},
     "output_type": "display_data"
    }
   ],
   "source": [
    "nhrs_remarks_strlen = nhrs.remarks.fillna('').str.len()\n",
    "nhrs_remarks_strlen.plot.hist(\n",
    "    bins=20, xlim=(0, 300), ylim=(0, 30000), range=(0, 300),\n",
    "    title='NHRS: antal tecken i fältet \"remarks\"')"
   ]
  },
  {
   "cell_type": "markdown",
   "metadata": {},
   "source": [
    "### Poster med koordinater\n",
    "\n",
    "Avslutningsvis räknar vi antalet svenska poster med koordinater:"
   ]
  },
  {
   "cell_type": "code",
   "execution_count": 39,
   "metadata": {
    "collapsed": false
   },
   "outputs": [
    {
     "name": "stdout",
     "output_type": "stream",
     "text": [
      "31511 poster (68.7% av alla svenska poster)\n"
     ]
    }
   ],
   "source": [
    "nhrs_coord_cnt = nhrs.coordinate.notnull().sum()\n",
    "nhrs_coord_frq = nhrs_coord_cnt / nhrs_tot_cnt\n",
    "print(\n",
    "    '{} poster ({:.1%} av alla svenska poster)'\n",
    "    .format(nhrs_coord_cnt, nhrs_coord_frq))"
   ]
  }
 ],
 "metadata": {
  "kernelspec": {
   "display_name": "Python 3",
   "language": "python",
   "name": "python3"
  },
  "language_info": {
   "codemirror_mode": {
    "name": "ipython",
    "version": 3
   },
   "file_extension": ".py",
   "mimetype": "text/x-python",
   "name": "python",
   "nbconvert_exporter": "python",
   "pygments_lexer": "ipython3",
   "version": "3.5.1"
  }
 },
 "nbformat": 4,
 "nbformat_minor": 0
}
