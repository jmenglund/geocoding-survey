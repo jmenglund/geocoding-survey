{
 "cells": [
  {
   "cell_type": "markdown",
   "metadata": {},
   "source": [
    "# Koordinatsättning med hjälp av socknar och landskap\n",
    "\n",
    "\n",
    "För botaniska föremål insamlade i Sverige känner vi ofta till socken medan koordinat saknas. Genom att använda sockenkoordinater som tagits fram vid herbariet i Lund skulle vi därmed med relativt enkla medel förmodligen kunna koordinatsätta en stor del av våra svenska samlingsföremål.\n",
    "\n",
    "Vad kan vi då åstadkomma genom att använda landskaps- och sockenkoordinater? Först undersöker jag hur många föremålsposter som potentiellt skulle kunna koordinatsättas för några botaniska samlingar vid Naturhistoriska riksmuseet i Stockholm (kärlväxter, mossor, alger och svampar (inklusive lavar). Sedan tittar jag på hur det kan se ut för en icke-botanisk samling. Jag använder den entomologiska samlingen vid Naturhistoriska riksmuseet som exempel."
   ]
  },
  {
   "cell_type": "code",
   "execution_count": 1,
   "metadata": {
    "collapsed": false
   },
   "outputs": [
    {
     "name": "stderr",
     "output_type": "stream",
     "text": [
      "//anaconda/lib/python3.4/site-packages/pandas/computation/__init__.py:19: UserWarning: The installed version of numexpr 2.4.4 is not supported in pandas and will be not be used\n",
      "\n",
      "  UserWarning)\n",
      "//anaconda/lib/python3.4/site-packages/IPython/html.py:14: ShimWarning: The `IPython.html` package has been deprecated. You should import from `notebook` instead. `IPython.html.widgets` has moved to `ipywidgets`.\n",
      "  \"`IPython.html.widgets` has moved to `ipywidgets`.\", ShimWarning)\n"
     ]
    }
   ],
   "source": [
    "# Importera diverse bibliotek\n",
    "%matplotlib inline\n",
    "import numpy as np\n",
    "import matplotlib as mpl\n",
    "import matplotlib.pyplot as plt\n",
    "import seaborn as sns\n",
    "import pandas as pd"
   ]
  },
  {
   "cell_type": "markdown",
   "metadata": {},
   "source": [
    "# Landskap och socknar hos kärlväxter\n"
   ]
  },
  {
   "cell_type": "code",
   "execution_count": null,
   "metadata": {
    "collapsed": false
   },
   "outputs": [],
   "source": [
    "vasc_plants = pd.read_csv('s-vascular-plants-20160330.csv', encoding='utf8', dtype='unicode')\n",
    "vasc_plants.tail(10)"
   ]
  },
  {
   "cell_type": "markdown",
   "metadata": {},
   "source": [
    "### Antal svenska föremålsposter"
   ]
  },
  {
   "cell_type": "code",
   "execution_count": null,
   "metadata": {
    "collapsed": false
   },
   "outputs": [],
   "source": [
    "vasc_plants_tot_cnt = len(vasc_plants)\n",
    "vasc_plants_tot_cnt"
   ]
  },
  {
   "cell_type": "markdown",
   "metadata": {},
   "source": [
    "### Poster med information om landskap"
   ]
  },
  {
   "cell_type": "code",
   "execution_count": null,
   "metadata": {
    "collapsed": false
   },
   "outputs": [],
   "source": [
    "vasc_plants_landskap_cnt = vasc_plants.Province.notnull().sum()\n",
    "vasc_plants_landskap_frq = vasc_plants_landskap_cnt / vasc_plants_tot_cnt\n",
    "print(\n",
    "    '{} poster ({:.1%} av alla svenska poster)'\n",
    "    .format(vasc_plants_landskap_cnt, vasc_plants_landskap_frq))"
   ]
  },
  {
   "cell_type": "markdown",
   "metadata": {},
   "source": [
    "### Poster med information om socken"
   ]
  },
  {
   "cell_type": "code",
   "execution_count": null,
   "metadata": {
    "collapsed": false
   },
   "outputs": [],
   "source": [
    "vasc_plants_socken_cnt = vasc_plants.Parish.notnull().sum()\n",
    "vasc_plants_socken_frq = vasc_plants_socken_cnt / vasc_plants_tot_cnt\n",
    "print(\n",
    "    '{} poster ({:.1%} av alla svenska poster)'\n",
    "    .format(vasc_plants_socken_cnt, vasc_plants_socken_frq))"
   ]
  },
  {
   "cell_type": "markdown",
   "metadata": {},
   "source": [
    "### Poster med detaljerad lokalinformation\n",
    "\n",
    "Fördelningen hos antalet tecken i fältet \"Locality\". Textlängder upp till 300 tecken visas."
   ]
  },
  {
   "cell_type": "code",
   "execution_count": null,
   "metadata": {
    "collapsed": true
   },
   "outputs": [],
   "source": [
    "vasc_plants_strlen = vasc_plants.Locality.fillna('').str.len()\n",
    "vasc_plants_strlen.plot.hist(\n",
    "    bins=20, xlim=(0, 300), range=(0, 300),\n",
    "    title='Kärlväxter: antal tecken i fältet \"Locality\"')"
   ]
  },
  {
   "cell_type": "markdown",
   "metadata": {},
   "source": [
    "### Poster med koordinater\n",
    "\n",
    "Huvudsakligen tre typer av koordinater förekommer: (1) WGS84 (eller förmodad WGS84), (2) Rikets Nät 1990 (RT90) eller en RUBIN (dvs. alfanumeriska koordinater enligt Rikets Nät."
   ]
  },
  {
   "cell_type": "code",
   "execution_count": null,
   "metadata": {
    "collapsed": false
   },
   "outputs": [],
   "source": [
    "vasc_plants_coordinates = pd.DataFrame({\n",
    "        'WGS84': (vasc_plants['latitud grader'].notnull() & vasc_plants['longitud grader'].notnull()),\n",
    "        'RT90': (vasc_plants.RT90E.notnull() & vasc_plants.RT90N.notnull()),\n",
    "        'RUBIN': vasc_plants.rubin1.notnull()})\n",
    "vasc_plants_coordinates.sum().plot.bar(title='Kärlväxter: förekomst av koordinater')"
   ]
  },
  {
   "cell_type": "markdown",
   "metadata": {},
   "source": [
    "Antal poster med någon av koordinattyperna:"
   ]
  },
  {
   "cell_type": "code",
   "execution_count": null,
   "metadata": {
    "collapsed": false
   },
   "outputs": [],
   "source": [
    "vasc_plants_coordinate_cnt = vasc_plants_coordinates.any(axis=1).sum()\n",
    "vasc_plants_coordinate_frq = vasc_plants_coordinate_cnt / vasc_plants_tot_cnt\n",
    "print(\n",
    "    '{} poster ({:.1%} av alla svenska poster)'\n",
    "    .format(vasc_plants_coordinate_cnt, vasc_plants_coordinate_frq))"
   ]
  },
  {
   "cell_type": "markdown",
   "metadata": {},
   "source": [
    "# Landskap och socknar hos mossor"
   ]
  },
  {
   "cell_type": "code",
   "execution_count": null,
   "metadata": {
    "collapsed": false
   },
   "outputs": [],
   "source": [
    "mosses = pd.read_csv('s-mosses-20160331.csv', encoding='utf8', dtype='unicode')\n",
    "mosses.tail(10)"
   ]
  },
  {
   "cell_type": "markdown",
   "metadata": {},
   "source": [
    "### Antal svenska föremålsposter"
   ]
  },
  {
   "cell_type": "code",
   "execution_count": null,
   "metadata": {
    "collapsed": false
   },
   "outputs": [],
   "source": [
    "mosses_tot_cnt = len(mosses)\n",
    "mosses_tot_cnt"
   ]
  },
  {
   "cell_type": "markdown",
   "metadata": {},
   "source": [
    "### Poster med information om landskap"
   ]
  },
  {
   "cell_type": "code",
   "execution_count": null,
   "metadata": {
    "collapsed": false
   },
   "outputs": [],
   "source": [
    "mosses_landskap_cnt = mosses.provins.notnull().sum()\n",
    "mosses_landskap_frq = mosses_landskap_cnt / mosses_tot_cnt\n",
    "print(\n",
    "    '{} poster ({:.1%} av alla svenska poster)'\n",
    "    .format(mosses_landskap_cnt, mosses_landskap_frq))"
   ]
  },
  {
   "cell_type": "markdown",
   "metadata": {},
   "source": [
    "### Poster med information om socken"
   ]
  },
  {
   "cell_type": "code",
   "execution_count": null,
   "metadata": {
    "collapsed": false
   },
   "outputs": [],
   "source": [
    "mosses_socken_cnt = mosses.distrikt.notnull().sum()\n",
    "mosses_socken_frq = mosses_socken_cnt / mosses_tot_cnt\n",
    "print(\n",
    "    '{} poster ({:.1%} av alla svenska poster)'\n",
    "    .format(mosses_socken_cnt, mosses_socken_frq))"
   ]
  },
  {
   "cell_type": "markdown",
   "metadata": {},
   "source": [
    "### Poster med detaljerad lokalinformation\n",
    "\n",
    "Fördelningen hos antalet tecken i fältet \"lokal\". Textlängder upp till 300 tecken visas."
   ]
  },
  {
   "cell_type": "code",
   "execution_count": null,
   "metadata": {
    "collapsed": false
   },
   "outputs": [],
   "source": [
    "mosses_strlen = mosses.lokal.fillna('').str.len()\n",
    "mosses_strlen.plot.hist(\n",
    "    bins=20, xlim=(0, 300), range=(0, 300),\n",
    "    title='Mossor: antal tecken i fältet \"lokal\"')"
   ]
  },
  {
   "cell_type": "markdown",
   "metadata": {},
   "source": [
    "### Poster med koordinater\n",
    "\n",
    "Huvudsakligen tre typer av koordinater förekommer: (1) WGS84 (eller förmodad WGS84), (2) Rikets Nät 1990 (RT90) eller en RUBIN (dvs. alfanumeriska koordinater enligt Rikets Nät."
   ]
  },
  {
   "cell_type": "code",
   "execution_count": null,
   "metadata": {
    "collapsed": false
   },
   "outputs": [],
   "source": [
    "mosses_coordinates = pd.DataFrame({\n",
    "        'WGS84': (mosses['latitud_grad'].notnull() & mosses['longitud_grad'].notnull()),\n",
    "        'RT90': (mosses.RT90E.notnull() & mosses.RT90N.notnull()),\n",
    "        'RUBIN': mosses.Rubin1.notnull()})\n",
    "mosses_coordinates.sum().plot.bar(title='Mossor: förekomst av koordinater')"
   ]
  },
  {
   "cell_type": "markdown",
   "metadata": {},
   "source": [
    "Antal poster med någon av koordinattyperna:"
   ]
  },
  {
   "cell_type": "code",
   "execution_count": null,
   "metadata": {
    "collapsed": false
   },
   "outputs": [],
   "source": [
    "mosses_coordinate_cnt = mosses_coordinates.any(axis=1).sum()\n",
    "mosses_coordinate_frq = mosses_coordinate_cnt / mosses_tot_cnt\n",
    "print(\n",
    "    '{} poster ({:.1%} av alla svenska poster)'\n",
    "    .format(mosses_coordinate_cnt, mosses_coordinate_frq))"
   ]
  },
  {
   "cell_type": "markdown",
   "metadata": {},
   "source": [
    "# Landskap och socknar hos alger"
   ]
  },
  {
   "cell_type": "code",
   "execution_count": null,
   "metadata": {
    "collapsed": false
   },
   "outputs": [],
   "source": [
    "algae = pd.read_csv('s-algae-20160331.csv', encoding='utf8', dtype='unicode')\n",
    "algae.tail(10)"
   ]
  },
  {
   "cell_type": "markdown",
   "metadata": {},
   "source": [
    "### Antal svenska föremålsposter"
   ]
  },
  {
   "cell_type": "code",
   "execution_count": null,
   "metadata": {
    "collapsed": false
   },
   "outputs": [],
   "source": [
    "algae_tot_cnt = len(algae)\n",
    "algae_tot_cnt"
   ]
  },
  {
   "cell_type": "markdown",
   "metadata": {},
   "source": [
    "### Poster med information om landskap"
   ]
  },
  {
   "cell_type": "code",
   "execution_count": null,
   "metadata": {
    "collapsed": false
   },
   "outputs": [],
   "source": [
    "algae_landskap_cnt = algae.provins.notnull().sum()\n",
    "algae_landskap_frq = algae_landskap_cnt / algae_tot_cnt\n",
    "print(\n",
    "    '{} poster ({:.1%} av alla svenska poster)'\n",
    "    .format(algae_landskap_cnt, algae_landskap_frq))"
   ]
  },
  {
   "cell_type": "markdown",
   "metadata": {},
   "source": [
    "### Poster med information om socken"
   ]
  },
  {
   "cell_type": "code",
   "execution_count": null,
   "metadata": {
    "collapsed": false
   },
   "outputs": [],
   "source": [
    "algae_socken_cnt = algae.distrikt.notnull().sum()\n",
    "algae_socken_frq = algae_socken_cnt / algae_tot_cnt\n",
    "print(\n",
    "    '{} poster ({:.1%} av alla svenska poster)'\n",
    "    .format(algae_socken_cnt, algae_socken_frq))"
   ]
  },
  {
   "cell_type": "markdown",
   "metadata": {},
   "source": [
    "### Poster med detaljerad lokalinformation\n",
    "\n",
    "Fördelningen hos antalet tecken i fältet \"lokal\". Textlängder upp till 300 tecken visas."
   ]
  },
  {
   "cell_type": "code",
   "execution_count": null,
   "metadata": {
    "collapsed": false
   },
   "outputs": [],
   "source": [
    "algae_strlen = algae.lokal.fillna('').str.len()\n",
    "algae_strlen.plot.hist(\n",
    "    bins=20, xlim=(0, 300), range=(0, 300),\n",
    "    title='Alger: antal tecken i fältet \"lokal\"')"
   ]
  },
  {
   "cell_type": "markdown",
   "metadata": {},
   "source": [
    "### Poster med koordinater\n",
    "\n",
    "Huvudsakligen tre typer av koordinater förekommer: (1) WGS84 (eller förmodad WGS84), (2) Rikets Nät 1990 (RT90) eller en RUBIN (dvs. alfanumeriska koordinater enligt Rikets Nät."
   ]
  },
  {
   "cell_type": "code",
   "execution_count": null,
   "metadata": {
    "collapsed": false
   },
   "outputs": [],
   "source": [
    "algae_coordinates = pd.DataFrame({\n",
    "        'WGS84': (algae['latitud_grad'].notnull() & algae['longitud_grad'].notnull()),\n",
    "        'RT90': (algae.RT90E.notnull() & algae.RT90N.notnull()),\n",
    "        'RUBIN': algae.Rubin1.notnull()})\n",
    "algae_coordinates.sum().plot.bar(title='Alger: förekomst av koordinater')"
   ]
  },
  {
   "cell_type": "markdown",
   "metadata": {},
   "source": [
    "Antal poster med någon av koordinattyperna:"
   ]
  },
  {
   "cell_type": "code",
   "execution_count": null,
   "metadata": {
    "collapsed": false
   },
   "outputs": [],
   "source": [
    "algae_coordinate_cnt = algae_coordinates.any(axis=1).sum()\n",
    "algae_coordinate_frq = algae_coordinate_cnt / algae_tot_cnt\n",
    "print(\n",
    "    '{} poster ({:.1%} av alla svenska poster)'\n",
    "    .format(algae_coordinate_cnt, algae_coordinate_frq))"
   ]
  },
  {
   "cell_type": "markdown",
   "metadata": {},
   "source": [
    "# Landskap och socknar hos svampar och lavar"
   ]
  },
  {
   "cell_type": "code",
   "execution_count": null,
   "metadata": {
    "collapsed": false
   },
   "outputs": [],
   "source": [
    "fungi = pd.read_csv('s-fungi-20160331.csv', encoding='utf8', dtype='unicode')\n",
    "fungi.tail(10)"
   ]
  },
  {
   "cell_type": "markdown",
   "metadata": {},
   "source": [
    "### Antal svenska föremålsposter"
   ]
  },
  {
   "cell_type": "code",
   "execution_count": null,
   "metadata": {
    "collapsed": false
   },
   "outputs": [],
   "source": [
    "fungi_tot_cnt = len(fungi)\n",
    "fungi_tot_cnt"
   ]
  },
  {
   "cell_type": "markdown",
   "metadata": {},
   "source": [
    "### Poster med information om landskap"
   ]
  },
  {
   "cell_type": "code",
   "execution_count": null,
   "metadata": {
    "collapsed": false
   },
   "outputs": [],
   "source": [
    "fungi_landskap_cnt = fungi.provins.notnull().sum()\n",
    "fungi_landskap_frq = fungi_landskap_cnt / fungi_tot_cnt\n",
    "print(\n",
    "    '{} poster ({:.1%} av alla svenska poster)'\n",
    "    .format(fungi_landskap_cnt, fungi_landskap_frq))"
   ]
  },
  {
   "cell_type": "markdown",
   "metadata": {},
   "source": [
    "### Poster med information om socken"
   ]
  },
  {
   "cell_type": "code",
   "execution_count": null,
   "metadata": {
    "collapsed": false
   },
   "outputs": [],
   "source": [
    "fungi_socken_cnt = fungi.distrikt.notnull().sum()\n",
    "fungi_socken_frq = fungi_socken_cnt / fungi_tot_cnt\n",
    "print(\n",
    "    '{} poster ({:.1%} av alla svenska poster)'\n",
    "    .format(fungi_socken_cnt, fungi_socken_frq))"
   ]
  },
  {
   "cell_type": "markdown",
   "metadata": {},
   "source": [
    "### Poster med detaljerad lokalinformation\n",
    "\n",
    "Fördelningen hos antalet tecken i fältet \"lokal\". Textlängder upp till 300 tecken visas."
   ]
  },
  {
   "cell_type": "code",
   "execution_count": null,
   "metadata": {
    "collapsed": false
   },
   "outputs": [],
   "source": [
    "fungi_strlen = fungi.lokal.fillna('').str.len()\n",
    "fungi_strlen.plot.hist(\n",
    "    bins=20, xlim=(0, 300), range=(0, 300),\n",
    "    title='Svampar: antal tecken i fältet \"lokal\"')"
   ]
  },
  {
   "cell_type": "markdown",
   "metadata": {},
   "source": [
    "### Poster med koordinater\n",
    "\n",
    "Huvudsakligen tre typer av koordinater förekommer: (1) WGS84 (eller förmodad WGS84), (2) Rikets Nät 1990 (RT90) eller en RUBIN (dvs. alfanumeriska koordinater enligt Rikets Nät."
   ]
  },
  {
   "cell_type": "code",
   "execution_count": null,
   "metadata": {
    "collapsed": false
   },
   "outputs": [],
   "source": [
    "fungi_coordinates = pd.DataFrame({\n",
    "        'WGS84': (fungi['latitud_grad'].notnull() & fungi['longitud_grad'].notnull()),\n",
    "        'RT90': (fungi.RT90E.notnull() & fungi.RT90N.notnull()),\n",
    "        'RUBIN': fungi.Rubin1.notnull()})\n",
    "fungi_coordinates.sum().plot.bar(title='Svampar: förekomst av koordinater')"
   ]
  },
  {
   "cell_type": "markdown",
   "metadata": {},
   "source": [
    "Antal poster med någon av koordinattyperna:"
   ]
  },
  {
   "cell_type": "code",
   "execution_count": null,
   "metadata": {
    "collapsed": false
   },
   "outputs": [],
   "source": [
    "fungi_coordinate_cnt = fungi_coordinates.any(axis=1).sum()\n",
    "fungi_coordinate_frq = fungi_coordinate_cnt / fungi_tot_cnt\n",
    "print(\n",
    "    '{} poster ({:.1%} av alla svenska poster)'\n",
    "    .format(fungi_coordinate_cnt, fungi_coordinate_frq))"
   ]
  },
  {
   "cell_type": "markdown",
   "metadata": {},
   "source": [
    "# Landskap och socknar i en entomologiska samling\n",
    "\n",
    "Följande SQL-fråga kördes mot Specify-databasen för att ta ut alla poster med föremål som samlats in i **Sverige**.\n",
    "\n",
    "```    \n",
    "SELECT \n",
    "    collectionobject.remarks,\n",
    "    locality.localityname,\n",
    "    CONCAT_WS(\n",
    "\t\t', ', CAST(latitude1 AS CHAR), CAST(longitude1 AS CHAR)\n",
    "\t) AS coordinate,\n",
    "    locality.disciplineid,\n",
    "    geography.fullname\n",
    "FROM\n",
    "    collectionobject\n",
    "        INNER JOIN\n",
    "    collection USING (collectionid)\n",
    "        LEFT JOIN\n",
    "    collectingevent USING (collectingeventid)\n",
    "        LEFT JOIN\n",
    "    locality USING (localityid)\n",
    "        LEFT JOIN\n",
    "    geography USING (geographyid)\n",
    "WHERE\n",
    "    collection.code = 'NHRS'\n",
    "        AND geography.fullname LIKE '%Sweden%'\n",
    "LIMIT 100000\n",
    ";\n",
    "\n",
    "```\n",
    "\n",
    "Posterna exporteras till CSV och läses sedan in i Python:"
   ]
  },
  {
   "cell_type": "code",
   "execution_count": null,
   "metadata": {
    "collapsed": true
   },
   "outputs": [],
   "source": [
    "nhrs = pd.read_csv('nhrs-20160307.csv', encoding='utf8')"
   ]
  },
  {
   "cell_type": "markdown",
   "metadata": {},
   "source": [
    "Låt oss ta en titt på hur data ser ut (här visas de 10 sista posterna):"
   ]
  },
  {
   "cell_type": "code",
   "execution_count": null,
   "metadata": {
    "collapsed": false
   },
   "outputs": [],
   "source": [
    "nhrs.tail(10)"
   ]
  },
  {
   "cell_type": "markdown",
   "metadata": {},
   "source": [
    "### Antal svenska föremålsposter"
   ]
  },
  {
   "cell_type": "code",
   "execution_count": null,
   "metadata": {
    "collapsed": false
   },
   "outputs": [],
   "source": [
    "nhrs_tot_cnt = len(nhrs)\n",
    "nhrs_tot_cnt"
   ]
  },
  {
   "cell_type": "markdown",
   "metadata": {},
   "source": [
    "### Poster med information om landskap\n",
    "\n",
    "Vi kollar också upp hur många poster som för närvarande är kopplade till landskap:"
   ]
  },
  {
   "cell_type": "code",
   "execution_count": null,
   "metadata": {
    "collapsed": true
   },
   "outputs": [],
   "source": [
    "landskap = [\n",
    "    'Blekinge', 'Bohuslän', 'Dalarna', 'Dalsland', 'Gotland',\n",
    "    'Gästrikland', 'Halland', 'Hälsingland', 'Härjedalen', 'Jämtland',\n",
    "    'Lappland', 'Lule Lappmark', 'Lycksele Lappmark', 'Medelpad',\n",
    "    'Norrbotten', 'Närke', 'Pite Lappmark', 'Skåne', 'Småland',\n",
    "    'Södermanland', 'Torne Lappmark', 'Uppland', 'Värmland',\n",
    "    'Västerbotten', 'Västergötland', 'Västmanland', 'Ångermanland',\n",
    "    'Åsele Lappmark', 'Öland', 'Östergötland']\n",
    "\n",
    "matches = []\n",
    "for lskp in landskap:\n",
    "    matches.append(nhrs.fullname.str.contains(lskp))\n",
    "nhrs_landskap_cnt = pd.concat(matches).sum()\n",
    "nhrs_landskap_frq = nhrs_landskap_cnt / nhrs_tot_cnt\n",
    "print(\n",
    "    '{} poster ({:.1%} av alla svenska poster)'\n",
    "    .format(nhrs_landskap_cnt, nhrs_landskap_frq))"
   ]
  },
  {
   "cell_type": "markdown",
   "metadata": {},
   "source": [
    "### Poster med etikettavskrift\n",
    "\n",
    "Information om socken kan man hitta i text som skrivits av från etiketter. Här räknas antalet svenska föremålsposter som troligen har en etikettavskrift (värdet är sannolikt överskattat eftersom fältet \"remarks\" även kan innehålla annat än ren etikettavskrift):"
   ]
  },
  {
   "cell_type": "code",
   "execution_count": null,
   "metadata": {
    "collapsed": false
   },
   "outputs": [],
   "source": [
    "nhrs_labeltext_cnt = nhrs.remarks.notnull().sum()\n",
    "nhrs_labeltext_frq = nhrs_labeltext_cnt / nhrs_tot_cnt\n",
    "print(\n",
    "    '{} poster ({:.1%} av alla svenska poster)'\n",
    "    .format(nhrs_labeltext_cnt, nhrs_labeltext_frq))"
   ]
  },
  {
   "cell_type": "markdown",
   "metadata": {},
   "source": [
    "### Poster som bör kunna kopplas till socken\n",
    "\n",
    "Här räknar vi antalet poster som relativt enkelt bör kunna kopplas ihop med en socken:"
   ]
  },
  {
   "cell_type": "code",
   "execution_count": null,
   "metadata": {
    "collapsed": false
   },
   "outputs": [],
   "source": [
    "nhrs_remarks_socken_mask = nhrs.remarks.str.contains(\n",
    "    '\\ssn$|\\ssn[\\s\\.,;]|s:n|socken', na=False)\n",
    "nhrs_localityname_socken_mask = nhrs.localityname.str.contains(\n",
    "    '\\ssn$|\\ssn[\\s\\.,;]|s:n|socken', na=False)\n",
    "nhrs_socken_cnt = (nhrs_remarks_socken_mask | nhrs_localityname_socken_mask).sum()\n",
    "nhrs_socken_frq = nhrs_socken_cnt / nhrs_tot_cnt\n",
    "print(\n",
    "    '{} poster ({:.1%} av alla svenska poster)'\n",
    "    .format(nhrs_socken_cnt, nhrs_socken_frq))"
   ]
  },
  {
   "cell_type": "markdown",
   "metadata": {},
   "source": [
    "### Poster med detaljerad lokalinformation\n",
    "\n",
    "Det är svårt att filtrera ut poster som har detaljerad information om insamlingsplatsen. Detta beror på att fältet \"localityname\" i Specify inte får lämnas tomt. Entomologerna brukar vanligtvis (dock inte alltid!) skriva \"No precise locality information avialable\" i fältet när detaljerad information saknas. Således kan vi räkna alla de övriga posterna:"
   ]
  },
  {
   "cell_type": "code",
   "execution_count": null,
   "metadata": {
    "collapsed": false
   },
   "outputs": [],
   "source": [
    "nhrs_detailed_locality_cnt = (~nhrs.localityname.str.contains('[Nn]o\\s+precise', na=True, regex=True)).sum()\n",
    "nhrs_detailed_locality_frq = nhrs_detailed_locality_cnt / nhrs_tot_cnt\n",
    "print(\n",
    "    '{} poster ({:.1%} av alla svenska poster)'\n",
    "    .format(nhrs_detailed_locality_cnt, nhrs_detailed_locality_frq))"
   ]
  },
  {
   "cell_type": "markdown",
   "metadata": {},
   "source": [
    "Fördelningen hos antalet tecken i fältet \"localityname\". Textlängder upp till 300 tecken visas."
   ]
  },
  {
   "cell_type": "code",
   "execution_count": null,
   "metadata": {
    "collapsed": false
   },
   "outputs": [],
   "source": [
    "nhrs_localityname_strlen = nhrs.localityname.fillna('').str.len()\n",
    "nhrs_localityname_strlen.plot.hist(\n",
    "    bins=20, xlim=(0, 300), ylim=(0, 30000), range=(0, 300),\n",
    "    title='NHRS: antal tecken i fältet \"localityname\"')"
   ]
  },
  {
   "cell_type": "markdown",
   "metadata": {},
   "source": [
    "Fördelningen hos antalet tecken i fältet \"remarks\". Textlängder upp till 300 tecken visas."
   ]
  },
  {
   "cell_type": "code",
   "execution_count": null,
   "metadata": {
    "collapsed": false
   },
   "outputs": [],
   "source": [
    "nhrs_remarks_strlen = nhrs.remarks.fillna('').str.len()\n",
    "nhrs_remarks_strlen.plot.hist(\n",
    "    bins=20, xlim=(0, 300), ylim=(0, 30000), range=(0, 300),\n",
    "    title='NHRS: antal tecken i fältet \"remarks\"')"
   ]
  },
  {
   "cell_type": "markdown",
   "metadata": {},
   "source": [
    "### Poster med koordinater\n",
    "\n",
    "Avslutningsvis räknar vi antalet svenska poster med koordinater:"
   ]
  },
  {
   "cell_type": "code",
   "execution_count": null,
   "metadata": {
    "collapsed": false
   },
   "outputs": [],
   "source": [
    "nhrs_coord_cnt = nhrs.coordinate.notnull().sum()\n",
    "nhrs_coord_frq = nhrs_coord_cnt / nhrs_tot_cnt\n",
    "print(\n",
    "    '{} poster ({:.1%} av alla svenska poster)'\n",
    "    .format(nhrs_coord_cnt, nhrs_coord_frq))"
   ]
  }
 ],
 "metadata": {
  "kernelspec": {
   "display_name": "Python 3",
   "language": "python",
   "name": "python3"
  },
  "language_info": {
   "codemirror_mode": {
    "name": "ipython",
    "version": 3
   },
   "file_extension": ".py",
   "mimetype": "text/x-python",
   "name": "python",
   "nbconvert_exporter": "python",
   "pygments_lexer": "ipython3",
   "version": "3.4.4"
  }
 },
 "nbformat": 4,
 "nbformat_minor": 0
}
